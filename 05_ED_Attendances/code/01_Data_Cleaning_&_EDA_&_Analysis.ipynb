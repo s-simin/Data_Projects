{
 "cells": [
  {
   "cell_type": "markdown",
   "metadata": {},
   "source": [
    "<img src=\"https://github.com/s-simin/images/blob/main/healthcare_SG.png?raw=true\" style=\"float: left; margin: 0px 20px 0px 0px; height: 155px;\">  \n",
    "\n",
    "<h1 style=\"font-family: Segoe UI; color: #3366cc; line-height: 1.3;\"><strong>A Preliminary Analysis</strong><br>\n",
    "Manpower Resource Planning for SGH Emergency Department</h1>\n",
    "\n",
    "<div style=\"text-align: right;\">\n",
    "<h3>Author : Suen Si Min<br>\n",
    "</div>\n",
    "<br>\n",
    "<br>\n",
    "\n",
    "---\n",
    "\n",
    "**Problem Statement:** <br><br>\n",
    "How differences in attendance numbers at SGH's emergency department can assist policy makers in manpower resource planning.\n",
    "<br>\n",
    "<br>\n",
    "\n",
    "**Glossary of Terms:** <br>\n",
    "- ED: Emergency Department\n",
    "- SGH: Singapore General Hospital\n",
    "- PH: Public Holiday(s)\n",
    "\n",
    "**Datasource** <br>\n",
    "- Attendances at Emergency Medicine Departments. Data from Ministry of Health (MOH) [Link here](https://www.moh.gov.sg/resources-statistics/healthcare-institution-statistics/attendances-at-emergency-medicine-departments)"
   ]
  },
  {
   "cell_type": "markdown",
   "metadata": {},
   "source": [
    "**Data Dictionary** <br>\n",
    "These statistics are reported for: \n",
    "- Urgent Care Clinic at Alexandra Hospital (AH)\n",
    "- Emergency Medicine Departments (EMD) at Changi General Hospital (CGH)\n",
    "- Khoo Teck Puat Hospital (KTPH)\n",
    "- National University Hospital (NUH) (Adults)\n",
    "- Ng Teng Fong General Hospital (NTFGH)\n",
    "- Sengkang General Hospital (SKH)\n",
    "- Singapore General Hospital (SGH)\n",
    "- Tan Tock Seng Hospital (TTSH)\n",
    "\n",
    "Attendances at Emergency Medicine Departments (EMD) comprise of daily attendance figures include all patients who are presented at the EMD regardless of urgency of medical conditions."
   ]
  },
  {
   "cell_type": "markdown",
   "metadata": {},
   "source": [
    "---\n",
    "# 1. Imports"
   ]
  },
  {
   "cell_type": "code",
   "execution_count": 433,
   "metadata": {},
   "outputs": [],
   "source": [
    "import pandas as pd\n",
    "import numpy as np\n",
    "import seaborn as sns\n",
    "import matplotlib.pyplot as plt\n",
    "import matplotlib.dates as mdates\n",
    "import plotly.express as px\n",
    "\n",
    "from scipy.stats import levene, ttest_ind\n",
    "\n",
    "from datetime import datetime\n",
    "\n",
    "# Set a random seed to reproduce the same results across all.\n",
    "np.random.seed(42)"
   ]
  },
  {
   "cell_type": "markdown",
   "metadata": {},
   "source": [
    "---\n",
    "# 2. Data Cleaning"
   ]
  },
  {
   "cell_type": "code",
   "execution_count": 434,
   "metadata": {},
   "outputs": [],
   "source": [
    "# Read csv\n",
    "df = pd.read_csv('../data/daily_ED_Attendances_by_Hospital.csv')"
   ]
  },
  {
   "cell_type": "code",
   "execution_count": 435,
   "metadata": {},
   "outputs": [
    {
     "data": {
      "text/plain": [
       "(511, 13)"
      ]
     },
     "execution_count": 435,
     "metadata": {},
     "output_type": "execute_result"
    }
   ],
   "source": [
    "# Check shape   \n",
    "df.shape"
   ]
  },
  {
   "cell_type": "code",
   "execution_count": 436,
   "metadata": {},
   "outputs": [
    {
     "data": {
      "text/html": [
       "<div>\n",
       "<style scoped>\n",
       "    .dataframe tbody tr th:only-of-type {\n",
       "        vertical-align: middle;\n",
       "    }\n",
       "\n",
       "    .dataframe tbody tr th {\n",
       "        vertical-align: top;\n",
       "    }\n",
       "\n",
       "    .dataframe thead th {\n",
       "        text-align: right;\n",
       "    }\n",
       "</style>\n",
       "<table border=\"1\" class=\"dataframe\">\n",
       "  <thead>\n",
       "    <tr style=\"text-align: right;\">\n",
       "      <th></th>\n",
       "      <th>Date</th>\n",
       "      <th>AH</th>\n",
       "      <th>CGH</th>\n",
       "      <th>KTPH</th>\n",
       "      <th>NTFGH</th>\n",
       "      <th>NUH(A)</th>\n",
       "      <th>SGH</th>\n",
       "      <th>SKH</th>\n",
       "      <th>TTSH</th>\n",
       "      <th>Unnamed: 9</th>\n",
       "      <th>Unnamed: 10</th>\n",
       "      <th>Unnamed: 11</th>\n",
       "      <th>Unnamed: 12</th>\n",
       "    </tr>\n",
       "  </thead>\n",
       "  <tbody>\n",
       "    <tr>\n",
       "      <th>0</th>\n",
       "      <td>Sun, 01/01/23</td>\n",
       "      <td>64</td>\n",
       "      <td>351</td>\n",
       "      <td>286</td>\n",
       "      <td>252</td>\n",
       "      <td>257</td>\n",
       "      <td>309</td>\n",
       "      <td>333</td>\n",
       "      <td>336</td>\n",
       "      <td>NaN</td>\n",
       "      <td>NaN</td>\n",
       "      <td>NaN</td>\n",
       "      <td>NaN</td>\n",
       "    </tr>\n",
       "    <tr>\n",
       "      <th>1</th>\n",
       "      <td>Mon, 02/01/23</td>\n",
       "      <td>61</td>\n",
       "      <td>386</td>\n",
       "      <td>326</td>\n",
       "      <td>314</td>\n",
       "      <td>334</td>\n",
       "      <td>342</td>\n",
       "      <td>346</td>\n",
       "      <td>370</td>\n",
       "      <td>NaN</td>\n",
       "      <td>NaN</td>\n",
       "      <td>NaN</td>\n",
       "      <td>NaN</td>\n",
       "    </tr>\n",
       "    <tr>\n",
       "      <th>2</th>\n",
       "      <td>Tue, 03/01/23</td>\n",
       "      <td>76</td>\n",
       "      <td>436</td>\n",
       "      <td>401</td>\n",
       "      <td>364</td>\n",
       "      <td>352</td>\n",
       "      <td>343</td>\n",
       "      <td>397</td>\n",
       "      <td>422</td>\n",
       "      <td>NaN</td>\n",
       "      <td>NaN</td>\n",
       "      <td>NaN</td>\n",
       "      <td>NaN</td>\n",
       "    </tr>\n",
       "    <tr>\n",
       "      <th>3</th>\n",
       "      <td>Wed, 04/01/23</td>\n",
       "      <td>74</td>\n",
       "      <td>354</td>\n",
       "      <td>311</td>\n",
       "      <td>330</td>\n",
       "      <td>286</td>\n",
       "      <td>305</td>\n",
       "      <td>327</td>\n",
       "      <td>361</td>\n",
       "      <td>NaN</td>\n",
       "      <td>NaN</td>\n",
       "      <td>NaN</td>\n",
       "      <td>NaN</td>\n",
       "    </tr>\n",
       "    <tr>\n",
       "      <th>4</th>\n",
       "      <td>Thu, 05/01/23</td>\n",
       "      <td>61</td>\n",
       "      <td>373</td>\n",
       "      <td>335</td>\n",
       "      <td>320</td>\n",
       "      <td>309</td>\n",
       "      <td>337</td>\n",
       "      <td>351</td>\n",
       "      <td>366</td>\n",
       "      <td>NaN</td>\n",
       "      <td>NaN</td>\n",
       "      <td>NaN</td>\n",
       "      <td>NaN</td>\n",
       "    </tr>\n",
       "    <tr>\n",
       "      <th>5</th>\n",
       "      <td>Fri, 06/01/23</td>\n",
       "      <td>49</td>\n",
       "      <td>353</td>\n",
       "      <td>305</td>\n",
       "      <td>287</td>\n",
       "      <td>304</td>\n",
       "      <td>302</td>\n",
       "      <td>340</td>\n",
       "      <td>350</td>\n",
       "      <td>NaN</td>\n",
       "      <td>NaN</td>\n",
       "      <td>NaN</td>\n",
       "      <td>NaN</td>\n",
       "    </tr>\n",
       "    <tr>\n",
       "      <th>6</th>\n",
       "      <td>Sat, 07/01/23</td>\n",
       "      <td>48</td>\n",
       "      <td>296</td>\n",
       "      <td>296</td>\n",
       "      <td>274</td>\n",
       "      <td>268</td>\n",
       "      <td>286</td>\n",
       "      <td>309</td>\n",
       "      <td>391</td>\n",
       "      <td>NaN</td>\n",
       "      <td>NaN</td>\n",
       "      <td>NaN</td>\n",
       "      <td>NaN</td>\n",
       "    </tr>\n",
       "    <tr>\n",
       "      <th>7</th>\n",
       "      <td>Sun, 08/01/23</td>\n",
       "      <td>56</td>\n",
       "      <td>342</td>\n",
       "      <td>273</td>\n",
       "      <td>255</td>\n",
       "      <td>268</td>\n",
       "      <td>257</td>\n",
       "      <td>359</td>\n",
       "      <td>278</td>\n",
       "      <td>NaN</td>\n",
       "      <td>NaN</td>\n",
       "      <td>NaN</td>\n",
       "      <td>NaN</td>\n",
       "    </tr>\n",
       "    <tr>\n",
       "      <th>8</th>\n",
       "      <td>Mon, 09/01/23</td>\n",
       "      <td>83</td>\n",
       "      <td>398</td>\n",
       "      <td>379</td>\n",
       "      <td>382</td>\n",
       "      <td>341</td>\n",
       "      <td>359</td>\n",
       "      <td>409</td>\n",
       "      <td>426</td>\n",
       "      <td>NaN</td>\n",
       "      <td>NaN</td>\n",
       "      <td>NaN</td>\n",
       "      <td>NaN</td>\n",
       "    </tr>\n",
       "    <tr>\n",
       "      <th>9</th>\n",
       "      <td>Tue, 10/01/23</td>\n",
       "      <td>59</td>\n",
       "      <td>389</td>\n",
       "      <td>374</td>\n",
       "      <td>350</td>\n",
       "      <td>319</td>\n",
       "      <td>301</td>\n",
       "      <td>336</td>\n",
       "      <td>382</td>\n",
       "      <td>NaN</td>\n",
       "      <td>NaN</td>\n",
       "      <td>NaN</td>\n",
       "      <td>NaN</td>\n",
       "    </tr>\n",
       "    <tr>\n",
       "      <th>10</th>\n",
       "      <td>Wed, 11/01/23</td>\n",
       "      <td>51</td>\n",
       "      <td>354</td>\n",
       "      <td>305</td>\n",
       "      <td>316</td>\n",
       "      <td>300</td>\n",
       "      <td>307</td>\n",
       "      <td>325</td>\n",
       "      <td>316</td>\n",
       "      <td>NaN</td>\n",
       "      <td>NaN</td>\n",
       "      <td>NaN</td>\n",
       "      <td>NaN</td>\n",
       "    </tr>\n",
       "    <tr>\n",
       "      <th>11</th>\n",
       "      <td>Thu, 12/01/23</td>\n",
       "      <td>52</td>\n",
       "      <td>351</td>\n",
       "      <td>287</td>\n",
       "      <td>345</td>\n",
       "      <td>276</td>\n",
       "      <td>302</td>\n",
       "      <td>323</td>\n",
       "      <td>354</td>\n",
       "      <td>NaN</td>\n",
       "      <td>NaN</td>\n",
       "      <td>NaN</td>\n",
       "      <td>NaN</td>\n",
       "    </tr>\n",
       "    <tr>\n",
       "      <th>12</th>\n",
       "      <td>Fri, 13/01/23</td>\n",
       "      <td>54</td>\n",
       "      <td>381</td>\n",
       "      <td>304</td>\n",
       "      <td>308</td>\n",
       "      <td>291</td>\n",
       "      <td>275</td>\n",
       "      <td>285</td>\n",
       "      <td>355</td>\n",
       "      <td>NaN</td>\n",
       "      <td>NaN</td>\n",
       "      <td>NaN</td>\n",
       "      <td>NaN</td>\n",
       "    </tr>\n",
       "    <tr>\n",
       "      <th>13</th>\n",
       "      <td>Sat, 14/01/23</td>\n",
       "      <td>42</td>\n",
       "      <td>327</td>\n",
       "      <td>291</td>\n",
       "      <td>298</td>\n",
       "      <td>247</td>\n",
       "      <td>281</td>\n",
       "      <td>307</td>\n",
       "      <td>317</td>\n",
       "      <td>NaN</td>\n",
       "      <td>NaN</td>\n",
       "      <td>NaN</td>\n",
       "      <td>NaN</td>\n",
       "    </tr>\n",
       "    <tr>\n",
       "      <th>14</th>\n",
       "      <td>Sun, 15/01/23</td>\n",
       "      <td>68</td>\n",
       "      <td>282</td>\n",
       "      <td>270</td>\n",
       "      <td>242</td>\n",
       "      <td>235</td>\n",
       "      <td>262</td>\n",
       "      <td>319</td>\n",
       "      <td>304</td>\n",
       "      <td>NaN</td>\n",
       "      <td>NaN</td>\n",
       "      <td>NaN</td>\n",
       "      <td>NaN</td>\n",
       "    </tr>\n",
       "    <tr>\n",
       "      <th>15</th>\n",
       "      <td>Mon, 16/01/23</td>\n",
       "      <td>67</td>\n",
       "      <td>403</td>\n",
       "      <td>341</td>\n",
       "      <td>385</td>\n",
       "      <td>325</td>\n",
       "      <td>342</td>\n",
       "      <td>362</td>\n",
       "      <td>388</td>\n",
       "      <td>NaN</td>\n",
       "      <td>NaN</td>\n",
       "      <td>NaN</td>\n",
       "      <td>NaN</td>\n",
       "    </tr>\n",
       "    <tr>\n",
       "      <th>16</th>\n",
       "      <td>Tue, 17/01/23</td>\n",
       "      <td>55</td>\n",
       "      <td>354</td>\n",
       "      <td>313</td>\n",
       "      <td>327</td>\n",
       "      <td>242</td>\n",
       "      <td>278</td>\n",
       "      <td>315</td>\n",
       "      <td>313</td>\n",
       "      <td>NaN</td>\n",
       "      <td>NaN</td>\n",
       "      <td>NaN</td>\n",
       "      <td>NaN</td>\n",
       "    </tr>\n",
       "    <tr>\n",
       "      <th>17</th>\n",
       "      <td>Wed, 18/01/23</td>\n",
       "      <td>52</td>\n",
       "      <td>332</td>\n",
       "      <td>308</td>\n",
       "      <td>314</td>\n",
       "      <td>262</td>\n",
       "      <td>290</td>\n",
       "      <td>311</td>\n",
       "      <td>333</td>\n",
       "      <td>NaN</td>\n",
       "      <td>NaN</td>\n",
       "      <td>NaN</td>\n",
       "      <td>NaN</td>\n",
       "    </tr>\n",
       "    <tr>\n",
       "      <th>18</th>\n",
       "      <td>Thu, 19/01/23</td>\n",
       "      <td>50</td>\n",
       "      <td>329</td>\n",
       "      <td>300</td>\n",
       "      <td>288</td>\n",
       "      <td>265</td>\n",
       "      <td>277</td>\n",
       "      <td>277</td>\n",
       "      <td>333</td>\n",
       "      <td>NaN</td>\n",
       "      <td>NaN</td>\n",
       "      <td>NaN</td>\n",
       "      <td>NaN</td>\n",
       "    </tr>\n",
       "    <tr>\n",
       "      <th>19</th>\n",
       "      <td>Fri, 20/01/23</td>\n",
       "      <td>47</td>\n",
       "      <td>322</td>\n",
       "      <td>251</td>\n",
       "      <td>275</td>\n",
       "      <td>274</td>\n",
       "      <td>293</td>\n",
       "      <td>286</td>\n",
       "      <td>287</td>\n",
       "      <td>NaN</td>\n",
       "      <td>NaN</td>\n",
       "      <td>NaN</td>\n",
       "      <td>NaN</td>\n",
       "    </tr>\n",
       "  </tbody>\n",
       "</table>\n",
       "</div>"
      ],
      "text/plain": [
       "             Date  AH  CGH  KTPH  NTFGH  NUH(A)  SGH  SKH  TTSH  Unnamed: 9  \\\n",
       "0   Sun, 01/01/23  64  351   286    252     257  309  333   336         NaN   \n",
       "1   Mon, 02/01/23  61  386   326    314     334  342  346   370         NaN   \n",
       "2   Tue, 03/01/23  76  436   401    364     352  343  397   422         NaN   \n",
       "3   Wed, 04/01/23  74  354   311    330     286  305  327   361         NaN   \n",
       "4   Thu, 05/01/23  61  373   335    320     309  337  351   366         NaN   \n",
       "5   Fri, 06/01/23  49  353   305    287     304  302  340   350         NaN   \n",
       "6   Sat, 07/01/23  48  296   296    274     268  286  309   391         NaN   \n",
       "7   Sun, 08/01/23  56  342   273    255     268  257  359   278         NaN   \n",
       "8   Mon, 09/01/23  83  398   379    382     341  359  409   426         NaN   \n",
       "9   Tue, 10/01/23  59  389   374    350     319  301  336   382         NaN   \n",
       "10  Wed, 11/01/23  51  354   305    316     300  307  325   316         NaN   \n",
       "11  Thu, 12/01/23  52  351   287    345     276  302  323   354         NaN   \n",
       "12  Fri, 13/01/23  54  381   304    308     291  275  285   355         NaN   \n",
       "13  Sat, 14/01/23  42  327   291    298     247  281  307   317         NaN   \n",
       "14  Sun, 15/01/23  68  282   270    242     235  262  319   304         NaN   \n",
       "15  Mon, 16/01/23  67  403   341    385     325  342  362   388         NaN   \n",
       "16  Tue, 17/01/23  55  354   313    327     242  278  315   313         NaN   \n",
       "17  Wed, 18/01/23  52  332   308    314     262  290  311   333         NaN   \n",
       "18  Thu, 19/01/23  50  329   300    288     265  277  277   333         NaN   \n",
       "19  Fri, 20/01/23  47  322   251    275     274  293  286   287         NaN   \n",
       "\n",
       "    Unnamed: 10  Unnamed: 11  Unnamed: 12  \n",
       "0           NaN          NaN          NaN  \n",
       "1           NaN          NaN          NaN  \n",
       "2           NaN          NaN          NaN  \n",
       "3           NaN          NaN          NaN  \n",
       "4           NaN          NaN          NaN  \n",
       "5           NaN          NaN          NaN  \n",
       "6           NaN          NaN          NaN  \n",
       "7           NaN          NaN          NaN  \n",
       "8           NaN          NaN          NaN  \n",
       "9           NaN          NaN          NaN  \n",
       "10          NaN          NaN          NaN  \n",
       "11          NaN          NaN          NaN  \n",
       "12          NaN          NaN          NaN  \n",
       "13          NaN          NaN          NaN  \n",
       "14          NaN          NaN          NaN  \n",
       "15          NaN          NaN          NaN  \n",
       "16          NaN          NaN          NaN  \n",
       "17          NaN          NaN          NaN  \n",
       "18          NaN          NaN          NaN  \n",
       "19          NaN          NaN          NaN  "
      ]
     },
     "execution_count": 436,
     "metadata": {},
     "output_type": "execute_result"
    }
   ],
   "source": [
    "# Display first 20 rows\n",
    "df.head(20)"
   ]
  },
  {
   "cell_type": "code",
   "execution_count": 437,
   "metadata": {},
   "outputs": [],
   "source": [
    "# Remove unwanted columns\n",
    "df = df.iloc[:,0:9]"
   ]
  },
  {
   "cell_type": "code",
   "execution_count": 438,
   "metadata": {},
   "outputs": [
    {
     "name": "stdout",
     "output_type": "stream",
     "text": [
      "(511, 9)\n"
     ]
    },
    {
     "data": {
      "text/html": [
       "<div>\n",
       "<style scoped>\n",
       "    .dataframe tbody tr th:only-of-type {\n",
       "        vertical-align: middle;\n",
       "    }\n",
       "\n",
       "    .dataframe tbody tr th {\n",
       "        vertical-align: top;\n",
       "    }\n",
       "\n",
       "    .dataframe thead th {\n",
       "        text-align: right;\n",
       "    }\n",
       "</style>\n",
       "<table border=\"1\" class=\"dataframe\">\n",
       "  <thead>\n",
       "    <tr style=\"text-align: right;\">\n",
       "      <th></th>\n",
       "      <th>Date</th>\n",
       "      <th>AH</th>\n",
       "      <th>CGH</th>\n",
       "      <th>KTPH</th>\n",
       "      <th>NTFGH</th>\n",
       "      <th>NUH(A)</th>\n",
       "      <th>SGH</th>\n",
       "      <th>SKH</th>\n",
       "      <th>TTSH</th>\n",
       "    </tr>\n",
       "  </thead>\n",
       "  <tbody>\n",
       "    <tr>\n",
       "      <th>0</th>\n",
       "      <td>Sun, 01/01/23</td>\n",
       "      <td>64</td>\n",
       "      <td>351</td>\n",
       "      <td>286</td>\n",
       "      <td>252</td>\n",
       "      <td>257</td>\n",
       "      <td>309</td>\n",
       "      <td>333</td>\n",
       "      <td>336</td>\n",
       "    </tr>\n",
       "    <tr>\n",
       "      <th>1</th>\n",
       "      <td>Mon, 02/01/23</td>\n",
       "      <td>61</td>\n",
       "      <td>386</td>\n",
       "      <td>326</td>\n",
       "      <td>314</td>\n",
       "      <td>334</td>\n",
       "      <td>342</td>\n",
       "      <td>346</td>\n",
       "      <td>370</td>\n",
       "    </tr>\n",
       "    <tr>\n",
       "      <th>2</th>\n",
       "      <td>Tue, 03/01/23</td>\n",
       "      <td>76</td>\n",
       "      <td>436</td>\n",
       "      <td>401</td>\n",
       "      <td>364</td>\n",
       "      <td>352</td>\n",
       "      <td>343</td>\n",
       "      <td>397</td>\n",
       "      <td>422</td>\n",
       "    </tr>\n",
       "    <tr>\n",
       "      <th>3</th>\n",
       "      <td>Wed, 04/01/23</td>\n",
       "      <td>74</td>\n",
       "      <td>354</td>\n",
       "      <td>311</td>\n",
       "      <td>330</td>\n",
       "      <td>286</td>\n",
       "      <td>305</td>\n",
       "      <td>327</td>\n",
       "      <td>361</td>\n",
       "    </tr>\n",
       "    <tr>\n",
       "      <th>4</th>\n",
       "      <td>Thu, 05/01/23</td>\n",
       "      <td>61</td>\n",
       "      <td>373</td>\n",
       "      <td>335</td>\n",
       "      <td>320</td>\n",
       "      <td>309</td>\n",
       "      <td>337</td>\n",
       "      <td>351</td>\n",
       "      <td>366</td>\n",
       "    </tr>\n",
       "    <tr>\n",
       "      <th>5</th>\n",
       "      <td>Fri, 06/01/23</td>\n",
       "      <td>49</td>\n",
       "      <td>353</td>\n",
       "      <td>305</td>\n",
       "      <td>287</td>\n",
       "      <td>304</td>\n",
       "      <td>302</td>\n",
       "      <td>340</td>\n",
       "      <td>350</td>\n",
       "    </tr>\n",
       "    <tr>\n",
       "      <th>6</th>\n",
       "      <td>Sat, 07/01/23</td>\n",
       "      <td>48</td>\n",
       "      <td>296</td>\n",
       "      <td>296</td>\n",
       "      <td>274</td>\n",
       "      <td>268</td>\n",
       "      <td>286</td>\n",
       "      <td>309</td>\n",
       "      <td>391</td>\n",
       "    </tr>\n",
       "    <tr>\n",
       "      <th>7</th>\n",
       "      <td>Sun, 08/01/23</td>\n",
       "      <td>56</td>\n",
       "      <td>342</td>\n",
       "      <td>273</td>\n",
       "      <td>255</td>\n",
       "      <td>268</td>\n",
       "      <td>257</td>\n",
       "      <td>359</td>\n",
       "      <td>278</td>\n",
       "    </tr>\n",
       "    <tr>\n",
       "      <th>8</th>\n",
       "      <td>Mon, 09/01/23</td>\n",
       "      <td>83</td>\n",
       "      <td>398</td>\n",
       "      <td>379</td>\n",
       "      <td>382</td>\n",
       "      <td>341</td>\n",
       "      <td>359</td>\n",
       "      <td>409</td>\n",
       "      <td>426</td>\n",
       "    </tr>\n",
       "    <tr>\n",
       "      <th>9</th>\n",
       "      <td>Tue, 10/01/23</td>\n",
       "      <td>59</td>\n",
       "      <td>389</td>\n",
       "      <td>374</td>\n",
       "      <td>350</td>\n",
       "      <td>319</td>\n",
       "      <td>301</td>\n",
       "      <td>336</td>\n",
       "      <td>382</td>\n",
       "    </tr>\n",
       "    <tr>\n",
       "      <th>10</th>\n",
       "      <td>Wed, 11/01/23</td>\n",
       "      <td>51</td>\n",
       "      <td>354</td>\n",
       "      <td>305</td>\n",
       "      <td>316</td>\n",
       "      <td>300</td>\n",
       "      <td>307</td>\n",
       "      <td>325</td>\n",
       "      <td>316</td>\n",
       "    </tr>\n",
       "    <tr>\n",
       "      <th>11</th>\n",
       "      <td>Thu, 12/01/23</td>\n",
       "      <td>52</td>\n",
       "      <td>351</td>\n",
       "      <td>287</td>\n",
       "      <td>345</td>\n",
       "      <td>276</td>\n",
       "      <td>302</td>\n",
       "      <td>323</td>\n",
       "      <td>354</td>\n",
       "    </tr>\n",
       "    <tr>\n",
       "      <th>12</th>\n",
       "      <td>Fri, 13/01/23</td>\n",
       "      <td>54</td>\n",
       "      <td>381</td>\n",
       "      <td>304</td>\n",
       "      <td>308</td>\n",
       "      <td>291</td>\n",
       "      <td>275</td>\n",
       "      <td>285</td>\n",
       "      <td>355</td>\n",
       "    </tr>\n",
       "    <tr>\n",
       "      <th>13</th>\n",
       "      <td>Sat, 14/01/23</td>\n",
       "      <td>42</td>\n",
       "      <td>327</td>\n",
       "      <td>291</td>\n",
       "      <td>298</td>\n",
       "      <td>247</td>\n",
       "      <td>281</td>\n",
       "      <td>307</td>\n",
       "      <td>317</td>\n",
       "    </tr>\n",
       "    <tr>\n",
       "      <th>14</th>\n",
       "      <td>Sun, 15/01/23</td>\n",
       "      <td>68</td>\n",
       "      <td>282</td>\n",
       "      <td>270</td>\n",
       "      <td>242</td>\n",
       "      <td>235</td>\n",
       "      <td>262</td>\n",
       "      <td>319</td>\n",
       "      <td>304</td>\n",
       "    </tr>\n",
       "    <tr>\n",
       "      <th>15</th>\n",
       "      <td>Mon, 16/01/23</td>\n",
       "      <td>67</td>\n",
       "      <td>403</td>\n",
       "      <td>341</td>\n",
       "      <td>385</td>\n",
       "      <td>325</td>\n",
       "      <td>342</td>\n",
       "      <td>362</td>\n",
       "      <td>388</td>\n",
       "    </tr>\n",
       "    <tr>\n",
       "      <th>16</th>\n",
       "      <td>Tue, 17/01/23</td>\n",
       "      <td>55</td>\n",
       "      <td>354</td>\n",
       "      <td>313</td>\n",
       "      <td>327</td>\n",
       "      <td>242</td>\n",
       "      <td>278</td>\n",
       "      <td>315</td>\n",
       "      <td>313</td>\n",
       "    </tr>\n",
       "    <tr>\n",
       "      <th>17</th>\n",
       "      <td>Wed, 18/01/23</td>\n",
       "      <td>52</td>\n",
       "      <td>332</td>\n",
       "      <td>308</td>\n",
       "      <td>314</td>\n",
       "      <td>262</td>\n",
       "      <td>290</td>\n",
       "      <td>311</td>\n",
       "      <td>333</td>\n",
       "    </tr>\n",
       "    <tr>\n",
       "      <th>18</th>\n",
       "      <td>Thu, 19/01/23</td>\n",
       "      <td>50</td>\n",
       "      <td>329</td>\n",
       "      <td>300</td>\n",
       "      <td>288</td>\n",
       "      <td>265</td>\n",
       "      <td>277</td>\n",
       "      <td>277</td>\n",
       "      <td>333</td>\n",
       "    </tr>\n",
       "    <tr>\n",
       "      <th>19</th>\n",
       "      <td>Fri, 20/01/23</td>\n",
       "      <td>47</td>\n",
       "      <td>322</td>\n",
       "      <td>251</td>\n",
       "      <td>275</td>\n",
       "      <td>274</td>\n",
       "      <td>293</td>\n",
       "      <td>286</td>\n",
       "      <td>287</td>\n",
       "    </tr>\n",
       "  </tbody>\n",
       "</table>\n",
       "</div>"
      ],
      "text/plain": [
       "             Date  AH  CGH  KTPH  NTFGH  NUH(A)  SGH  SKH  TTSH\n",
       "0   Sun, 01/01/23  64  351   286    252     257  309  333   336\n",
       "1   Mon, 02/01/23  61  386   326    314     334  342  346   370\n",
       "2   Tue, 03/01/23  76  436   401    364     352  343  397   422\n",
       "3   Wed, 04/01/23  74  354   311    330     286  305  327   361\n",
       "4   Thu, 05/01/23  61  373   335    320     309  337  351   366\n",
       "5   Fri, 06/01/23  49  353   305    287     304  302  340   350\n",
       "6   Sat, 07/01/23  48  296   296    274     268  286  309   391\n",
       "7   Sun, 08/01/23  56  342   273    255     268  257  359   278\n",
       "8   Mon, 09/01/23  83  398   379    382     341  359  409   426\n",
       "9   Tue, 10/01/23  59  389   374    350     319  301  336   382\n",
       "10  Wed, 11/01/23  51  354   305    316     300  307  325   316\n",
       "11  Thu, 12/01/23  52  351   287    345     276  302  323   354\n",
       "12  Fri, 13/01/23  54  381   304    308     291  275  285   355\n",
       "13  Sat, 14/01/23  42  327   291    298     247  281  307   317\n",
       "14  Sun, 15/01/23  68  282   270    242     235  262  319   304\n",
       "15  Mon, 16/01/23  67  403   341    385     325  342  362   388\n",
       "16  Tue, 17/01/23  55  354   313    327     242  278  315   313\n",
       "17  Wed, 18/01/23  52  332   308    314     262  290  311   333\n",
       "18  Thu, 19/01/23  50  329   300    288     265  277  277   333\n",
       "19  Fri, 20/01/23  47  322   251    275     274  293  286   287"
      ]
     },
     "execution_count": 438,
     "metadata": {},
     "output_type": "execute_result"
    }
   ],
   "source": [
    "# Display first 20 rows to check\n",
    "print(df.shape)\n",
    "df.head(20)"
   ]
  },
  {
   "cell_type": "code",
   "execution_count": 439,
   "metadata": {},
   "outputs": [
    {
     "data": {
      "text/plain": [
       "Date      0\n",
       "AH        0\n",
       "CGH       0\n",
       "KTPH      0\n",
       "NTFGH     0\n",
       "NUH(A)    0\n",
       "SGH       0\n",
       "SKH       0\n",
       "TTSH      0\n",
       "dtype: int64"
      ]
     },
     "execution_count": 439,
     "metadata": {},
     "output_type": "execute_result"
    }
   ],
   "source": [
    "# Check number of null values per column\n",
    "df.isnull().sum()"
   ]
  },
  {
   "cell_type": "code",
   "execution_count": 440,
   "metadata": {},
   "outputs": [
    {
     "name": "stdout",
     "output_type": "stream",
     "text": [
      "<class 'pandas.core.frame.DataFrame'>\n",
      "RangeIndex: 511 entries, 0 to 510\n",
      "Data columns (total 9 columns):\n",
      " #   Column  Non-Null Count  Dtype \n",
      "---  ------  --------------  ----- \n",
      " 0   Date    511 non-null    object\n",
      " 1   AH      511 non-null    int64 \n",
      " 2   CGH     511 non-null    int64 \n",
      " 3   KTPH    511 non-null    int64 \n",
      " 4   NTFGH   511 non-null    int64 \n",
      " 5   NUH(A)  511 non-null    int64 \n",
      " 6   SGH     511 non-null    int64 \n",
      " 7   SKH     511 non-null    int64 \n",
      " 8   TTSH    511 non-null    int64 \n",
      "dtypes: int64(8), object(1)\n",
      "memory usage: 36.1+ KB\n"
     ]
    }
   ],
   "source": [
    "# Show null count and data types of each column\n",
    "df.info()"
   ]
  },
  {
   "cell_type": "code",
   "execution_count": 441,
   "metadata": {},
   "outputs": [
    {
     "data": {
      "text/html": [
       "<div>\n",
       "<style scoped>\n",
       "    .dataframe tbody tr th:only-of-type {\n",
       "        vertical-align: middle;\n",
       "    }\n",
       "\n",
       "    .dataframe tbody tr th {\n",
       "        vertical-align: top;\n",
       "    }\n",
       "\n",
       "    .dataframe thead th {\n",
       "        text-align: right;\n",
       "    }\n",
       "</style>\n",
       "<table border=\"1\" class=\"dataframe\">\n",
       "  <thead>\n",
       "    <tr style=\"text-align: right;\">\n",
       "      <th></th>\n",
       "      <th>AH</th>\n",
       "      <th>CGH</th>\n",
       "      <th>KTPH</th>\n",
       "      <th>NTFGH</th>\n",
       "      <th>NUH(A)</th>\n",
       "      <th>SGH</th>\n",
       "      <th>SKH</th>\n",
       "      <th>TTSH</th>\n",
       "    </tr>\n",
       "  </thead>\n",
       "  <tbody>\n",
       "    <tr>\n",
       "      <th>count</th>\n",
       "      <td>511.000000</td>\n",
       "      <td>511.000000</td>\n",
       "      <td>511.000000</td>\n",
       "      <td>511.000000</td>\n",
       "      <td>511.000000</td>\n",
       "      <td>511.000000</td>\n",
       "      <td>511.000000</td>\n",
       "      <td>511.000000</td>\n",
       "    </tr>\n",
       "    <tr>\n",
       "      <th>mean</th>\n",
       "      <td>63.853229</td>\n",
       "      <td>364.849315</td>\n",
       "      <td>317.528376</td>\n",
       "      <td>320.741683</td>\n",
       "      <td>296.502935</td>\n",
       "      <td>316.645793</td>\n",
       "      <td>339.632094</td>\n",
       "      <td>363.722114</td>\n",
       "    </tr>\n",
       "    <tr>\n",
       "      <th>std</th>\n",
       "      <td>11.434210</td>\n",
       "      <td>39.398651</td>\n",
       "      <td>39.987384</td>\n",
       "      <td>40.268606</td>\n",
       "      <td>37.436685</td>\n",
       "      <td>34.459834</td>\n",
       "      <td>33.264561</td>\n",
       "      <td>38.546141</td>\n",
       "    </tr>\n",
       "    <tr>\n",
       "      <th>min</th>\n",
       "      <td>7.000000</td>\n",
       "      <td>251.000000</td>\n",
       "      <td>218.000000</td>\n",
       "      <td>205.000000</td>\n",
       "      <td>162.000000</td>\n",
       "      <td>208.000000</td>\n",
       "      <td>259.000000</td>\n",
       "      <td>274.000000</td>\n",
       "    </tr>\n",
       "    <tr>\n",
       "      <th>25%</th>\n",
       "      <td>56.000000</td>\n",
       "      <td>338.000000</td>\n",
       "      <td>287.000000</td>\n",
       "      <td>290.000000</td>\n",
       "      <td>270.000000</td>\n",
       "      <td>295.500000</td>\n",
       "      <td>315.000000</td>\n",
       "      <td>337.000000</td>\n",
       "    </tr>\n",
       "    <tr>\n",
       "      <th>50%</th>\n",
       "      <td>63.000000</td>\n",
       "      <td>361.000000</td>\n",
       "      <td>314.000000</td>\n",
       "      <td>319.000000</td>\n",
       "      <td>294.000000</td>\n",
       "      <td>315.000000</td>\n",
       "      <td>339.000000</td>\n",
       "      <td>362.000000</td>\n",
       "    </tr>\n",
       "    <tr>\n",
       "      <th>75%</th>\n",
       "      <td>71.000000</td>\n",
       "      <td>387.500000</td>\n",
       "      <td>346.000000</td>\n",
       "      <td>348.000000</td>\n",
       "      <td>319.000000</td>\n",
       "      <td>333.000000</td>\n",
       "      <td>359.000000</td>\n",
       "      <td>386.000000</td>\n",
       "    </tr>\n",
       "    <tr>\n",
       "      <th>max</th>\n",
       "      <td>98.000000</td>\n",
       "      <td>483.000000</td>\n",
       "      <td>431.000000</td>\n",
       "      <td>423.000000</td>\n",
       "      <td>442.000000</td>\n",
       "      <td>429.000000</td>\n",
       "      <td>440.000000</td>\n",
       "      <td>499.000000</td>\n",
       "    </tr>\n",
       "  </tbody>\n",
       "</table>\n",
       "</div>"
      ],
      "text/plain": [
       "               AH         CGH        KTPH       NTFGH      NUH(A)         SGH  \\\n",
       "count  511.000000  511.000000  511.000000  511.000000  511.000000  511.000000   \n",
       "mean    63.853229  364.849315  317.528376  320.741683  296.502935  316.645793   \n",
       "std     11.434210   39.398651   39.987384   40.268606   37.436685   34.459834   \n",
       "min      7.000000  251.000000  218.000000  205.000000  162.000000  208.000000   \n",
       "25%     56.000000  338.000000  287.000000  290.000000  270.000000  295.500000   \n",
       "50%     63.000000  361.000000  314.000000  319.000000  294.000000  315.000000   \n",
       "75%     71.000000  387.500000  346.000000  348.000000  319.000000  333.000000   \n",
       "max     98.000000  483.000000  431.000000  423.000000  442.000000  429.000000   \n",
       "\n",
       "              SKH        TTSH  \n",
       "count  511.000000  511.000000  \n",
       "mean   339.632094  363.722114  \n",
       "std     33.264561   38.546141  \n",
       "min    259.000000  274.000000  \n",
       "25%    315.000000  337.000000  \n",
       "50%    339.000000  362.000000  \n",
       "75%    359.000000  386.000000  \n",
       "max    440.000000  499.000000  "
      ]
     },
     "execution_count": 441,
     "metadata": {},
     "output_type": "execute_result"
    }
   ],
   "source": [
    "# View summary statistics\n",
    "df.describe()"
   ]
  },
  {
   "cell_type": "markdown",
   "metadata": {},
   "source": [
    "## 2.1 Get an overview of data pattern and trend by generating a line plot for SGH\n",
    "\n",
    "Generate a line plot for daily attendance at SGH, with time on the $x$-axis and count on the $y$-axis as an overview of the data patterns and trends."
   ]
  },
  {
   "cell_type": "code",
   "execution_count": 442,
   "metadata": {},
   "outputs": [
    {
     "data": {
      "application/vnd.plotly.v1+json": {
       "config": {
        "plotlyServerURL": "https://plot.ly"
       },
       "data": [
        {
         "hovertemplate": "Date=%{x}<br>Attendances=%{y}<extra></extra>",
         "legendgroup": "",
         "line": {
          "color": "#636efa",
          "dash": "solid"
         },
         "marker": {
          "symbol": "circle"
         },
         "mode": "lines",
         "name": "",
         "orientation": "v",
         "showlegend": false,
         "type": "scatter",
         "x": [
          "Sun, 01/01/23",
          "Mon, 02/01/23",
          "Tue, 03/01/23",
          "Wed, 04/01/23",
          "Thu, 05/01/23",
          "Fri, 06/01/23",
          "Sat, 07/01/23",
          "Sun, 08/01/23",
          "Mon, 09/01/23",
          "Tue, 10/01/23",
          "Wed, 11/01/23",
          "Thu, 12/01/23",
          "Fri, 13/01/23",
          "Sat, 14/01/23",
          "Sun, 15/01/23",
          "Mon, 16/01/23",
          "Tue, 17/01/23",
          "Wed, 18/01/23",
          "Thu, 19/01/23",
          "Fri, 20/01/23",
          "Sat, 21/01/23",
          "Sun, 22/01/23",
          "Mon, 23/01/23",
          "Tue, 24/01/23",
          "Wed, 25/01/23",
          "Thu, 26/01/23",
          "Fri, 27/01/23",
          "Sat, 28/01/23",
          "Sun, 29/01/23",
          "Mon, 30/01/23",
          "Tue, 31/01/23",
          "Wed, 01/02/23",
          "Thu, 02/02/23",
          "Fri, 03/02/23",
          "Sat, 04/02/23",
          "Sun, 05/02/23",
          "Mon, 06/02/23",
          "Tue, 07/02/23",
          "Wed, 08/02/23",
          "Thu, 09/02/23",
          "Fri, 10/02/23",
          "Sat, 11/02/23",
          "Sun, 12/02/23",
          "Mon, 13/02/23",
          "Tue, 14/02/23",
          "Wed, 15/02/23",
          "Thu, 16/02/23",
          "Fri, 17/02/23",
          "Sat, 18/02/23",
          "Sun, 19/02/23",
          "Mon, 20/02/23",
          "Tue, 21/02/23",
          "Wed, 22/02/23",
          "Thu, 23/02/23",
          "Fri, 24/02/23",
          "Sat, 25/02/23",
          "Sun, 26/02/23",
          "Mon, 27/02/23",
          "Tue, 28/02/23",
          "Wed, 01/03/23",
          "Thu, 02/03/23",
          "Fri, 03/03/23",
          "Sat, 04/03/23",
          "Sun, 05/03/23",
          "Mon, 06/03/23",
          "Tue, 07/03/23",
          "Wed, 08/03/23",
          "Thu, 09/03/23",
          "Fri, 10/03/23",
          "Sat, 11/03/23",
          "Sun, 12/03/23",
          "Mon, 13/03/23",
          "Tue, 14/03/23",
          "Wed, 15/03/23",
          "Thu, 16/03/23",
          "Fri, 17/03/23",
          "Sat, 18/03/23",
          "Sun, 19/03/23",
          "Mon, 20/03/23",
          "Tue, 21/03/23",
          "Wed, 22/03/23",
          "Thu, 23/03/23",
          "Fri, 24/03/23",
          "Sat, 25/03/23",
          "Sun, 26/03/23",
          "Mon, 27/03/23",
          "Tue, 28/03/23",
          "Wed, 29/03/23",
          "Thu, 30/03/23",
          "Fri, 31/03/23",
          "Sat, 01/04/23",
          "Sun, 02/04/23",
          "Mon, 03/04/23",
          "Tue, 04/04/23",
          "Wed, 05/04/23",
          "Thu, 06/04/23",
          "Fri, 07/04/23",
          "Sat, 08/04/23",
          "Sun, 09/04/23",
          "Mon, 10/04/23",
          "Tue, 11/04/23",
          "Wed, 12/04/23",
          "Thu, 13/04/23",
          "Fri, 14/04/23",
          "Sat, 15/04/23",
          "Sun, 16/04/23",
          "Mon, 17/04/23",
          "Tue, 18/04/23",
          "Wed, 19/04/23",
          "Thu, 20/04/23",
          "Fri, 21/04/23",
          "Sat, 22/04/23",
          "Sun, 23/04/23",
          "Mon, 24/04/23",
          "Tue, 25/04/23",
          "Wed, 26/04/23",
          "Thu, 27/04/23",
          "Fri, 28/04/23",
          "Sat, 29/04/23",
          "Sun, 30/04/23",
          "Mon, 01/05/23",
          "Tue, 02/05/23",
          "Wed, 03/05/23",
          "Thu, 04/05/23",
          "Fri, 05/05/23",
          "Sat, 06/05/23",
          "Sun, 07/05/23",
          "Mon, 08/05/23",
          "Tue, 09/05/23",
          "Wed, 10/05/23",
          "Thu, 11/05/23",
          "Fri, 12/05/23",
          "Sat, 13/05/23",
          "Sun, 14/05/23",
          "Mon, 15/05/23",
          "Tue, 16/05/23",
          "Wed, 17/05/23",
          "Thu, 18/05/23",
          "Fri, 19/05/23",
          "Sat, 20/05/23",
          "Sun, 21/05/23",
          "Mon, 22/05/23",
          "Tue, 23/05/23",
          "Wed, 24/05/23",
          "Thu, 25/05/23",
          "Fri, 26/05/23",
          "Sat, 27/05/23",
          "Sun, 28/05/23",
          "Mon, 29/05/23",
          "Tue, 30/05/23",
          "Wed, 31/05/23",
          "Thu, 01/06/23",
          "Fri, 02/06/23",
          "Sat, 03/06/23",
          "Sun, 04/06/23",
          "Mon, 05/06/23",
          "Tue, 06/06/23",
          "Wed, 07/06/23",
          "Thu, 08/06/23",
          "Fri, 09/06/23",
          "Sat, 10/06/23",
          "Sun, 11/06/23",
          "Mon, 12/06/23",
          "Tue, 13/06/23",
          "Wed, 14/06/23",
          "Thu, 15/06/23",
          "Fri, 16/06/23",
          "Sat, 17/06/23",
          "Sun, 18/06/23",
          "Mon, 19/06/23",
          "Tue, 20/06/23",
          "Wed, 21/06/23",
          "Thu, 22/06/23",
          "Fri, 23/06/23",
          "Sat, 24/06/23",
          "Sun, 25/06/23",
          "Mon, 26/06/23",
          "Tue, 27/06/23",
          "Wed, 28/06/23",
          "Thu, 29/06/23",
          "Fri, 30/06/23",
          "Sat, 01/07/23",
          "Sun, 02/07/23",
          "Mon, 03/07/23",
          "Tue, 04/07/23",
          "Wed, 05/07/23",
          "Thu, 06/07/23",
          "Fri, 07/07/23",
          "Sat, 08/07/23",
          "Sun, 09/07/23",
          "Mon, 10/07/23",
          "Tue, 11/07/23",
          "Wed, 12/07/23",
          "Thu, 13/07/23",
          "Fri, 14/07/23",
          "Sat, 15/07/23",
          "Sun, 16/07/23",
          "Mon, 17/07/23",
          "Tue, 18/07/23",
          "Wed, 19/07/23",
          "Thu, 20/07/23",
          "Fri, 21/07/23",
          "Sat, 22/07/23",
          "Sun, 23/07/23",
          "Mon, 24/07/23",
          "Tue, 25/07/23",
          "Wed, 26/07/23",
          "Thu, 27/07/23",
          "Fri, 28/07/23",
          "Sat, 29/07/23",
          "Sun, 30/07/23",
          "Mon, 31/07/23",
          "Tue, 01/08/23",
          "Wed, 02/08/23",
          "Thu, 03/08/23",
          "Fri, 04/08/23",
          "Sat, 05/08/23",
          "Sun, 06/08/23",
          "Mon, 07/08/23",
          "Tue, 08/08/23",
          "Wed, 09/08/23",
          "Thu, 10/08/23",
          "Fri, 11/08/23",
          "Sat, 12/08/23",
          "Sun, 13/08/23",
          "Mon, 14/08/23",
          "Tue, 15/08/23",
          "Wed, 16/08/23",
          "Thu, 17/08/23",
          "Fri, 18/08/23",
          "Sat, 19/08/23",
          "Sun, 20/08/23",
          "Mon, 21/08/23",
          "Tue, 22/08/23",
          "Wed, 23/08/23",
          "Thu, 24/08/23",
          "Fri, 25/08/23",
          "Sat, 26/08/23",
          "Sun, 27/08/23",
          "Mon, 28/08/23",
          "Tue, 29/08/23",
          "Wed, 30/08/23",
          "Thu, 31/08/23",
          "Fri, 01/09/23",
          "Sat, 02/09/23",
          "Sun, 03/09/23",
          "Mon, 04/09/23",
          "Tue, 05/09/23",
          "Wed, 06/09/23",
          "Thu, 07/09/23",
          "Fri, 08/09/23",
          "Sat, 09/09/23",
          "Sun, 10/09/23",
          "Mon, 11/09/23",
          "Tue, 12/09/23",
          "Wed, 13/09/23",
          "Thu, 14/09/23",
          "Fri, 15/09/23",
          "Sat, 16/09/23",
          "Sun, 17/09/23",
          "Mon, 18/09/23",
          "Tue, 19/09/23",
          "Wed, 20/09/23",
          "Thu, 21/09/23",
          "Fri, 22/09/23",
          "Sat, 23/09/23",
          "Sun, 24/09/23",
          "Mon, 25/09/23",
          "Tue, 26/09/23",
          "Wed, 27/09/23",
          "Thu, 28/09/23",
          "Fri, 29/09/23",
          "Sat, 30/09/23",
          "Sun, 01/10/23",
          "Mon, 02/10/23",
          "Tue, 03/10/23",
          "Wed, 04/10/23",
          "Thu, 05/10/23",
          "Fri, 06/10/23",
          "Sat, 07/10/23",
          "Sun, 08/10/23",
          "Mon, 09/10/23",
          "Tue, 10/10/23",
          "Wed, 11/10/23",
          "Thu, 12/10/23",
          "Fri, 13/10/23",
          "Sat, 14/10/23",
          "Sun, 15/10/23",
          "Mon, 16/10/23",
          "Tue, 17/10/23",
          "Wed, 18/10/23",
          "Thu, 19/10/23",
          "Fri, 20/10/23",
          "Sat, 21/10/23",
          "Sun, 22/10/23",
          "Mon, 23/10/23",
          "Tue, 24/10/23",
          "Wed, 25/10/23",
          "Thu, 26/10/23",
          "Fri, 27/10/23",
          "Sat, 28/10/23",
          "Sun, 29/10/23",
          "Mon, 30/10/23",
          "Tue, 31/10/23",
          "Wed, 01/11/23",
          "Thu, 02/11/23",
          "Fri, 03/11/23",
          "Sat, 04/11/23",
          "Sun, 05/11/23",
          "Mon, 06/11/23",
          "Tue, 07/11/23",
          "Wed, 08/11/23",
          "Thu, 09/11/23",
          "Fri, 10/11/23",
          "Sat, 11/11/23",
          "Sun, 12/11/23",
          "Mon, 13/11/23",
          "Tue, 14/11/23",
          "Wed, 15/11/23",
          "Thu, 16/11/23",
          "Fri, 17/11/23",
          "Sat, 18/11/23",
          "Sun, 19/11/23",
          "Mon, 20/11/23",
          "Tue, 21/11/23",
          "Wed, 22/11/23",
          "Thu, 23/11/23",
          "Fri, 24/11/23",
          "Sat, 25/11/23",
          "Sun, 26/11/23",
          "Mon, 27/11/23",
          "Tue, 28/11/23",
          "Wed, 29/11/23",
          "Thu, 30/11/23",
          "Fri, 01/12/23",
          "Sat, 02/12/23",
          "Sun, 03/12/23",
          "Mon, 04/12/23",
          "Tue, 05/12/23",
          "Wed, 06/12/23",
          "Thu, 07/12/23",
          "Fri, 08/12/23",
          "Sat, 09/12/23",
          "Sun, 10/12/23",
          "Mon, 11/12/23",
          "Tue, 12/12/23",
          "Wed, 13/12/23",
          "Thu, 14/12/23",
          "Fri, 15/12/23",
          "Sat, 16/12/23",
          "Sun, 17/12/23",
          "Mon, 18/12/23",
          "Tue, 19/12/23",
          "Wed, 20/12/23",
          "Thu, 21/12/23",
          "Fri, 22/12/23",
          "Sat, 23/12/23",
          "Sun, 24/12/23",
          "Mon, 25/12/23",
          "Tue, 26/12/23",
          "Wed, 27/12/23",
          "Thu, 28/12/23",
          "Fri, 29/12/23",
          "Sat, 30/12/23",
          "Sun, 31/12/23",
          "Mon, 01/01/24",
          "Tue, 02/01/24",
          "Wed, 03/01/24",
          "Thu, 04/01/24",
          "Fri, 05/01/24",
          "Sat, 06/01/24",
          "Sun, 07/01/24",
          "Mon, 08/01/24",
          "Tue, 09/01/24",
          "Wed, 10/01/24",
          "Thu, 11/01/24",
          "Fri, 12/01/24",
          "Sat, 13/01/24",
          "Sun, 14/01/24",
          "Mon, 15/01/24",
          "Tue, 16/01/24",
          "Wed, 17/01/24",
          "Thu, 18/01/24",
          "Fri, 19/01/24",
          "Sat, 20/01/24",
          "Sun, 21/01/24",
          "Mon, 22/01/24",
          "Tue, 23/01/24",
          "Wed, 24/01/24",
          "Thu, 25/01/24",
          "Fri, 26/01/24",
          "Sat, 27/01/24",
          "Sun, 28/01/24",
          "Mon, 29/01/24",
          "Tue, 30/01/24",
          "Wed, 31/01/24",
          "Thu, 01/02/24",
          "Fri, 02/02/24",
          "Sat, 03/02/24",
          "Sun, 04/02/24",
          "Mon, 05/02/24",
          "Tue, 06/02/24",
          "Wed, 07/02/24",
          "Thu, 08/02/24",
          "Fri, 09/02/24",
          "Sat, 10/02/24",
          "Sun, 11/02/24",
          "Mon, 12/02/24",
          "Tue, 13/02/24",
          "Wed, 14/02/24",
          "Thu, 15/02/24",
          "Fri, 16/02/24",
          "Sat, 17/02/24",
          "Sun, 18/02/24",
          "Mon, 19/02/24",
          "Tue, 20/02/24",
          "Wed, 21/02/24",
          "Thu, 22/02/24",
          "Fri, 23/02/24",
          "Sat, 24/02/24",
          "Sun, 25/02/24",
          "Mon, 26/02/24",
          "Tue, 27/02/24",
          "Wed, 28/02/24",
          "Thu, 29/02/24",
          "Fri, 01/03/24",
          "Sat, 02/03/24",
          "Sun, 03/03/24",
          "Mon, 04/03/24",
          "Tue, 05/03/24",
          "Wed, 06/03/24",
          "Thu, 07/03/24",
          "Fri, 08/03/24",
          "Sat, 09/03/24",
          "Sun, 10/03/24",
          "Mon, 11/03/24",
          "Tue, 12/03/24",
          "Wed, 13/03/24",
          "Thu, 14/03/24",
          "Fri, 15/03/24",
          "Sat, 16/03/24",
          "Sun, 17/03/24",
          "Mon, 18/03/24",
          "Tue, 19/03/24",
          "Wed, 20/03/24",
          "Thu, 21/03/24",
          "Fri, 22/03/24",
          "Sat, 23/03/24",
          "Sun, 24/03/24",
          "Mon, 25/03/24",
          "Tue, 26/03/24",
          "Wed, 27/03/24",
          "Thu, 28/03/24",
          "Fri, 29/03/24",
          "Sat, 30/03/24",
          "Sun, 31/03/24",
          "Mon, 01/04/24",
          "Tue, 02/04/24",
          "Wed, 03/04/24",
          "Thu, 04/04/24",
          "Fri, 05/04/24",
          "Sat, 06/04/24",
          "Sun, 07/04/24",
          "Mon, 08/04/24",
          "Tue, 09/04/24",
          "Wed, 10/04/24",
          "Thu, 11/04/24",
          "Fri, 12/04/24",
          "Sat, 13/04/24",
          "Sun, 14/04/24",
          "Mon, 15/04/24",
          "Tue, 16/04/24",
          "Wed, 17/04/24",
          "Thu, 18/04/24",
          "Fri, 19/04/24",
          "Sat, 20/04/24",
          "Sun, 21/04/24",
          "Mon, 22/04/24",
          "Tue, 23/04/24",
          "Wed, 24/04/24",
          "Thu, 25/04/24",
          "Fri, 26/04/24",
          "Sat, 27/04/24",
          "Sun, 28/04/24",
          "Mon, 29/04/24",
          "Tue, 30/04/24",
          "Wed, 01/05/24",
          "Thu, 02/05/24",
          "Fri, 03/05/24",
          "Sat, 04/05/24",
          "Sun, 05/05/24",
          "Mon, 06/05/24",
          "Tue, 07/05/24",
          "Wed, 08/05/24",
          "Thu, 09/05/24",
          "Fri, 10/05/24",
          "Sat, 11/05/24",
          "Sun, 12/05/24",
          "Mon, 13/05/24",
          "Tue, 14/05/24",
          "Wed, 15/05/24",
          "Thu, 16/05/24",
          "Fri, 17/05/24",
          "Sat, 18/05/24",
          "Sun, 19/05/24",
          "Mon, 20/05/24",
          "Tue, 21/05/24",
          "Wed, 22/05/24",
          "Thu, 23/05/24",
          "Fri, 24/05/24",
          "Sat, 25/05/24"
         ],
         "xaxis": "x",
         "y": [
          309,
          342,
          343,
          305,
          337,
          302,
          286,
          257,
          359,
          301,
          307,
          302,
          275,
          281,
          262,
          342,
          278,
          290,
          277,
          293,
          252,
          208,
          303,
          324,
          323,
          304,
          304,
          236,
          247,
          360,
          325,
          347,
          343,
          305,
          276,
          259,
          399,
          360,
          340,
          350,
          311,
          304,
          268,
          399,
          318,
          293,
          303,
          335,
          312,
          305,
          367,
          322,
          353,
          328,
          293,
          292,
          265,
          358,
          259,
          296,
          289,
          305,
          286,
          278,
          354,
          320,
          341,
          329,
          317,
          305,
          308,
          411,
          332,
          321,
          324,
          337,
          297,
          316,
          379,
          336,
          346,
          308,
          321,
          276,
          277,
          379,
          334,
          299,
          316,
          304,
          326,
          277,
          367,
          321,
          291,
          337,
          261,
          306,
          292,
          398,
          365,
          307,
          307,
          330,
          303,
          299,
          390,
          329,
          314,
          315,
          304,
          269,
          299,
          348,
          361,
          323,
          299,
          305,
          284,
          262,
          344,
          377,
          313,
          320,
          280,
          285,
          295,
          398,
          327,
          325,
          336,
          308,
          308,
          286,
          379,
          313,
          321,
          346,
          282,
          286,
          243,
          388,
          309,
          320,
          297,
          312,
          272,
          246,
          349,
          314,
          295,
          308,
          258,
          320,
          244,
          359,
          312,
          308,
          349,
          322,
          290,
          271,
          344,
          302,
          316,
          302,
          316,
          281,
          239,
          359,
          321,
          298,
          316,
          339,
          295,
          277,
          352,
          325,
          322,
          271,
          357,
          313,
          297,
          349,
          342,
          291,
          327,
          310,
          308,
          278,
          330,
          330,
          328,
          320,
          305,
          318,
          316,
          396,
          315,
          318,
          317,
          318,
          291,
          297,
          353,
          347,
          326,
          322,
          329,
          303,
          286,
          372,
          330,
          333,
          316,
          332,
          295,
          249,
          368,
          344,
          248,
          350,
          336,
          290,
          306,
          372,
          309,
          294,
          320,
          333,
          293,
          295,
          390,
          328,
          312,
          317,
          324,
          289,
          314,
          409,
          321,
          318,
          304,
          258,
          325,
          295,
          403,
          341,
          306,
          297,
          327,
          298,
          292,
          346,
          373,
          312,
          312,
          323,
          298,
          305,
          374,
          332,
          289,
          327,
          311,
          321,
          281,
          406,
          333,
          324,
          294,
          338,
          312,
          286,
          394,
          322,
          305,
          369,
          326,
          289,
          303,
          371,
          367,
          321,
          335,
          300,
          298,
          287,
          387,
          301,
          310,
          321,
          320,
          315,
          253,
          388,
          265,
          317,
          290,
          304,
          281,
          300,
          353,
          320,
          318,
          337,
          283,
          281,
          300,
          362,
          317,
          314,
          291,
          295,
          351,
          280,
          305,
          375,
          324,
          327,
          309,
          292,
          247,
          379,
          328,
          324,
          375,
          344,
          260,
          254,
          389,
          333,
          302,
          347,
          324,
          309,
          300,
          384,
          333,
          321,
          331,
          341,
          346,
          263,
          398,
          325,
          320,
          298,
          319,
          291,
          310,
          351,
          327,
          319,
          292,
          320,
          271,
          260,
          276,
          357,
          301,
          323,
          297,
          308,
          265,
          296,
          377,
          316,
          293,
          319,
          296,
          221,
          351,
          319,
          316,
          333,
          307,
          327,
          303,
          380,
          333,
          327,
          305,
          325,
          316,
          281,
          405,
          324,
          322,
          292,
          340,
          304,
          279,
          397,
          320,
          300,
          337,
          307,
          296,
          286,
          385,
          333,
          314,
          268,
          268,
          249,
          283,
          314,
          348,
          322,
          329,
          321,
          280,
          300,
          360,
          312,
          341,
          312,
          318,
          299,
          278,
          410,
          303,
          350,
          308,
          325,
          289,
          275,
          360,
          345,
          319,
          311,
          337,
          311,
          267,
          375,
          326,
          296,
          347,
          288,
          292,
          260,
          382,
          342,
          330,
          308,
          330,
          282,
          283,
          354,
          305,
          283,
          310,
          265,
          310,
          290,
          363,
          326,
          314,
          316,
          315,
          270,
          258,
          315,
          312,
          231,
          349,
          307,
          308,
          279,
          380,
          323,
          303,
          322,
          322,
          277,
          303,
          387,
          299,
          298,
          351,
          286,
          328,
          314,
          376,
          308,
          272,
          390,
          356,
          302,
          292,
          358,
          328,
          339,
          332,
          312,
          314,
          261,
          429,
          328,
          318,
          336,
          328,
          287,
          290,
          356,
          317,
          295,
          384,
          329,
          321
         ],
         "yaxis": "y"
        }
       ],
       "layout": {
        "height": 400,
        "legend": {
         "title": {
          "text": "Legend"
         },
         "tracegroupgap": 0
        },
        "margin": {
         "b": 20,
         "l": 20,
         "r": 20,
         "t": 40
        },
        "template": {
         "data": {
          "bar": [
           {
            "error_x": {
             "color": "#2a3f5f"
            },
            "error_y": {
             "color": "#2a3f5f"
            },
            "marker": {
             "line": {
              "color": "#E5ECF6",
              "width": 0.5
             },
             "pattern": {
              "fillmode": "overlay",
              "size": 10,
              "solidity": 0.2
             }
            },
            "type": "bar"
           }
          ],
          "barpolar": [
           {
            "marker": {
             "line": {
              "color": "#E5ECF6",
              "width": 0.5
             },
             "pattern": {
              "fillmode": "overlay",
              "size": 10,
              "solidity": 0.2
             }
            },
            "type": "barpolar"
           }
          ],
          "carpet": [
           {
            "aaxis": {
             "endlinecolor": "#2a3f5f",
             "gridcolor": "white",
             "linecolor": "white",
             "minorgridcolor": "white",
             "startlinecolor": "#2a3f5f"
            },
            "baxis": {
             "endlinecolor": "#2a3f5f",
             "gridcolor": "white",
             "linecolor": "white",
             "minorgridcolor": "white",
             "startlinecolor": "#2a3f5f"
            },
            "type": "carpet"
           }
          ],
          "choropleth": [
           {
            "colorbar": {
             "outlinewidth": 0,
             "ticks": ""
            },
            "type": "choropleth"
           }
          ],
          "contour": [
           {
            "colorbar": {
             "outlinewidth": 0,
             "ticks": ""
            },
            "colorscale": [
             [
              0,
              "#0d0887"
             ],
             [
              0.1111111111111111,
              "#46039f"
             ],
             [
              0.2222222222222222,
              "#7201a8"
             ],
             [
              0.3333333333333333,
              "#9c179e"
             ],
             [
              0.4444444444444444,
              "#bd3786"
             ],
             [
              0.5555555555555556,
              "#d8576b"
             ],
             [
              0.6666666666666666,
              "#ed7953"
             ],
             [
              0.7777777777777778,
              "#fb9f3a"
             ],
             [
              0.8888888888888888,
              "#fdca26"
             ],
             [
              1,
              "#f0f921"
             ]
            ],
            "type": "contour"
           }
          ],
          "contourcarpet": [
           {
            "colorbar": {
             "outlinewidth": 0,
             "ticks": ""
            },
            "type": "contourcarpet"
           }
          ],
          "heatmap": [
           {
            "colorbar": {
             "outlinewidth": 0,
             "ticks": ""
            },
            "colorscale": [
             [
              0,
              "#0d0887"
             ],
             [
              0.1111111111111111,
              "#46039f"
             ],
             [
              0.2222222222222222,
              "#7201a8"
             ],
             [
              0.3333333333333333,
              "#9c179e"
             ],
             [
              0.4444444444444444,
              "#bd3786"
             ],
             [
              0.5555555555555556,
              "#d8576b"
             ],
             [
              0.6666666666666666,
              "#ed7953"
             ],
             [
              0.7777777777777778,
              "#fb9f3a"
             ],
             [
              0.8888888888888888,
              "#fdca26"
             ],
             [
              1,
              "#f0f921"
             ]
            ],
            "type": "heatmap"
           }
          ],
          "heatmapgl": [
           {
            "colorbar": {
             "outlinewidth": 0,
             "ticks": ""
            },
            "colorscale": [
             [
              0,
              "#0d0887"
             ],
             [
              0.1111111111111111,
              "#46039f"
             ],
             [
              0.2222222222222222,
              "#7201a8"
             ],
             [
              0.3333333333333333,
              "#9c179e"
             ],
             [
              0.4444444444444444,
              "#bd3786"
             ],
             [
              0.5555555555555556,
              "#d8576b"
             ],
             [
              0.6666666666666666,
              "#ed7953"
             ],
             [
              0.7777777777777778,
              "#fb9f3a"
             ],
             [
              0.8888888888888888,
              "#fdca26"
             ],
             [
              1,
              "#f0f921"
             ]
            ],
            "type": "heatmapgl"
           }
          ],
          "histogram": [
           {
            "marker": {
             "pattern": {
              "fillmode": "overlay",
              "size": 10,
              "solidity": 0.2
             }
            },
            "type": "histogram"
           }
          ],
          "histogram2d": [
           {
            "colorbar": {
             "outlinewidth": 0,
             "ticks": ""
            },
            "colorscale": [
             [
              0,
              "#0d0887"
             ],
             [
              0.1111111111111111,
              "#46039f"
             ],
             [
              0.2222222222222222,
              "#7201a8"
             ],
             [
              0.3333333333333333,
              "#9c179e"
             ],
             [
              0.4444444444444444,
              "#bd3786"
             ],
             [
              0.5555555555555556,
              "#d8576b"
             ],
             [
              0.6666666666666666,
              "#ed7953"
             ],
             [
              0.7777777777777778,
              "#fb9f3a"
             ],
             [
              0.8888888888888888,
              "#fdca26"
             ],
             [
              1,
              "#f0f921"
             ]
            ],
            "type": "histogram2d"
           }
          ],
          "histogram2dcontour": [
           {
            "colorbar": {
             "outlinewidth": 0,
             "ticks": ""
            },
            "colorscale": [
             [
              0,
              "#0d0887"
             ],
             [
              0.1111111111111111,
              "#46039f"
             ],
             [
              0.2222222222222222,
              "#7201a8"
             ],
             [
              0.3333333333333333,
              "#9c179e"
             ],
             [
              0.4444444444444444,
              "#bd3786"
             ],
             [
              0.5555555555555556,
              "#d8576b"
             ],
             [
              0.6666666666666666,
              "#ed7953"
             ],
             [
              0.7777777777777778,
              "#fb9f3a"
             ],
             [
              0.8888888888888888,
              "#fdca26"
             ],
             [
              1,
              "#f0f921"
             ]
            ],
            "type": "histogram2dcontour"
           }
          ],
          "mesh3d": [
           {
            "colorbar": {
             "outlinewidth": 0,
             "ticks": ""
            },
            "type": "mesh3d"
           }
          ],
          "parcoords": [
           {
            "line": {
             "colorbar": {
              "outlinewidth": 0,
              "ticks": ""
             }
            },
            "type": "parcoords"
           }
          ],
          "pie": [
           {
            "automargin": true,
            "type": "pie"
           }
          ],
          "scatter": [
           {
            "fillpattern": {
             "fillmode": "overlay",
             "size": 10,
             "solidity": 0.2
            },
            "type": "scatter"
           }
          ],
          "scatter3d": [
           {
            "line": {
             "colorbar": {
              "outlinewidth": 0,
              "ticks": ""
             }
            },
            "marker": {
             "colorbar": {
              "outlinewidth": 0,
              "ticks": ""
             }
            },
            "type": "scatter3d"
           }
          ],
          "scattercarpet": [
           {
            "marker": {
             "colorbar": {
              "outlinewidth": 0,
              "ticks": ""
             }
            },
            "type": "scattercarpet"
           }
          ],
          "scattergeo": [
           {
            "marker": {
             "colorbar": {
              "outlinewidth": 0,
              "ticks": ""
             }
            },
            "type": "scattergeo"
           }
          ],
          "scattergl": [
           {
            "marker": {
             "colorbar": {
              "outlinewidth": 0,
              "ticks": ""
             }
            },
            "type": "scattergl"
           }
          ],
          "scattermapbox": [
           {
            "marker": {
             "colorbar": {
              "outlinewidth": 0,
              "ticks": ""
             }
            },
            "type": "scattermapbox"
           }
          ],
          "scatterpolar": [
           {
            "marker": {
             "colorbar": {
              "outlinewidth": 0,
              "ticks": ""
             }
            },
            "type": "scatterpolar"
           }
          ],
          "scatterpolargl": [
           {
            "marker": {
             "colorbar": {
              "outlinewidth": 0,
              "ticks": ""
             }
            },
            "type": "scatterpolargl"
           }
          ],
          "scatterternary": [
           {
            "marker": {
             "colorbar": {
              "outlinewidth": 0,
              "ticks": ""
             }
            },
            "type": "scatterternary"
           }
          ],
          "surface": [
           {
            "colorbar": {
             "outlinewidth": 0,
             "ticks": ""
            },
            "colorscale": [
             [
              0,
              "#0d0887"
             ],
             [
              0.1111111111111111,
              "#46039f"
             ],
             [
              0.2222222222222222,
              "#7201a8"
             ],
             [
              0.3333333333333333,
              "#9c179e"
             ],
             [
              0.4444444444444444,
              "#bd3786"
             ],
             [
              0.5555555555555556,
              "#d8576b"
             ],
             [
              0.6666666666666666,
              "#ed7953"
             ],
             [
              0.7777777777777778,
              "#fb9f3a"
             ],
             [
              0.8888888888888888,
              "#fdca26"
             ],
             [
              1,
              "#f0f921"
             ]
            ],
            "type": "surface"
           }
          ],
          "table": [
           {
            "cells": {
             "fill": {
              "color": "#EBF0F8"
             },
             "line": {
              "color": "white"
             }
            },
            "header": {
             "fill": {
              "color": "#C8D4E3"
             },
             "line": {
              "color": "white"
             }
            },
            "type": "table"
           }
          ]
         },
         "layout": {
          "annotationdefaults": {
           "arrowcolor": "#2a3f5f",
           "arrowhead": 0,
           "arrowwidth": 1
          },
          "autotypenumbers": "strict",
          "coloraxis": {
           "colorbar": {
            "outlinewidth": 0,
            "ticks": ""
           }
          },
          "colorscale": {
           "diverging": [
            [
             0,
             "#8e0152"
            ],
            [
             0.1,
             "#c51b7d"
            ],
            [
             0.2,
             "#de77ae"
            ],
            [
             0.3,
             "#f1b6da"
            ],
            [
             0.4,
             "#fde0ef"
            ],
            [
             0.5,
             "#f7f7f7"
            ],
            [
             0.6,
             "#e6f5d0"
            ],
            [
             0.7,
             "#b8e186"
            ],
            [
             0.8,
             "#7fbc41"
            ],
            [
             0.9,
             "#4d9221"
            ],
            [
             1,
             "#276419"
            ]
           ],
           "sequential": [
            [
             0,
             "#0d0887"
            ],
            [
             0.1111111111111111,
             "#46039f"
            ],
            [
             0.2222222222222222,
             "#7201a8"
            ],
            [
             0.3333333333333333,
             "#9c179e"
            ],
            [
             0.4444444444444444,
             "#bd3786"
            ],
            [
             0.5555555555555556,
             "#d8576b"
            ],
            [
             0.6666666666666666,
             "#ed7953"
            ],
            [
             0.7777777777777778,
             "#fb9f3a"
            ],
            [
             0.8888888888888888,
             "#fdca26"
            ],
            [
             1,
             "#f0f921"
            ]
           ],
           "sequentialminus": [
            [
             0,
             "#0d0887"
            ],
            [
             0.1111111111111111,
             "#46039f"
            ],
            [
             0.2222222222222222,
             "#7201a8"
            ],
            [
             0.3333333333333333,
             "#9c179e"
            ],
            [
             0.4444444444444444,
             "#bd3786"
            ],
            [
             0.5555555555555556,
             "#d8576b"
            ],
            [
             0.6666666666666666,
             "#ed7953"
            ],
            [
             0.7777777777777778,
             "#fb9f3a"
            ],
            [
             0.8888888888888888,
             "#fdca26"
            ],
            [
             1,
             "#f0f921"
            ]
           ]
          },
          "colorway": [
           "#636efa",
           "#EF553B",
           "#00cc96",
           "#ab63fa",
           "#FFA15A",
           "#19d3f3",
           "#FF6692",
           "#B6E880",
           "#FF97FF",
           "#FECB52"
          ],
          "font": {
           "color": "#2a3f5f"
          },
          "geo": {
           "bgcolor": "white",
           "lakecolor": "white",
           "landcolor": "#E5ECF6",
           "showlakes": true,
           "showland": true,
           "subunitcolor": "white"
          },
          "hoverlabel": {
           "align": "left"
          },
          "hovermode": "closest",
          "mapbox": {
           "style": "light"
          },
          "paper_bgcolor": "white",
          "plot_bgcolor": "#E5ECF6",
          "polar": {
           "angularaxis": {
            "gridcolor": "white",
            "linecolor": "white",
            "ticks": ""
           },
           "bgcolor": "#E5ECF6",
           "radialaxis": {
            "gridcolor": "white",
            "linecolor": "white",
            "ticks": ""
           }
          },
          "scene": {
           "xaxis": {
            "backgroundcolor": "#E5ECF6",
            "gridcolor": "white",
            "gridwidth": 2,
            "linecolor": "white",
            "showbackground": true,
            "ticks": "",
            "zerolinecolor": "white"
           },
           "yaxis": {
            "backgroundcolor": "#E5ECF6",
            "gridcolor": "white",
            "gridwidth": 2,
            "linecolor": "white",
            "showbackground": true,
            "ticks": "",
            "zerolinecolor": "white"
           },
           "zaxis": {
            "backgroundcolor": "#E5ECF6",
            "gridcolor": "white",
            "gridwidth": 2,
            "linecolor": "white",
            "showbackground": true,
            "ticks": "",
            "zerolinecolor": "white"
           }
          },
          "shapedefaults": {
           "line": {
            "color": "#2a3f5f"
           }
          },
          "ternary": {
           "aaxis": {
            "gridcolor": "white",
            "linecolor": "white",
            "ticks": ""
           },
           "baxis": {
            "gridcolor": "white",
            "linecolor": "white",
            "ticks": ""
           },
           "bgcolor": "#E5ECF6",
           "caxis": {
            "gridcolor": "white",
            "linecolor": "white",
            "ticks": ""
           }
          },
          "title": {
           "x": 0.05
          },
          "xaxis": {
           "automargin": true,
           "gridcolor": "white",
           "linecolor": "white",
           "ticks": "",
           "title": {
            "standoff": 15
           },
           "zerolinecolor": "white",
           "zerolinewidth": 2
          },
          "yaxis": {
           "automargin": true,
           "gridcolor": "white",
           "linecolor": "white",
           "ticks": "",
           "title": {
            "standoff": 15
           },
           "zerolinecolor": "white",
           "zerolinewidth": 2
          }
         }
        },
        "title": {
         "text": "Daily Emergency Department Attendances (SGH)",
         "x": 0.5
        },
        "width": 2500,
        "xaxis": {
         "anchor": "y",
         "domain": [
          0,
          1
         ],
         "title": {
          "text": "Date"
         }
        },
        "yaxis": {
         "anchor": "x",
         "domain": [
          0,
          1
         ],
         "title": {
          "text": "Attendances"
         }
        }
       }
      }
     },
     "metadata": {},
     "output_type": "display_data"
    }
   ],
   "source": [
    "# Create a line plot with Plotly Express\n",
    "fig = px.line(df, x='Date', y='SGH', title='Daily Emergency Department Attendances (SGH)', labels={'SGH': 'Attendances', 'Date': 'Date'})\n",
    "\n",
    "# Customize the figure size\n",
    "fig.update_layout(width=2500, height=400, legend_title_text='Legend', title={'x': 0.5}, margin=dict(l=20, r=20, t=40, b=20))\n",
    "\n",
    "# Show the plot\n",
    "fig.show()"
   ]
  },
  {
   "cell_type": "code",
   "execution_count": 443,
   "metadata": {},
   "outputs": [
    {
     "data": {
      "text/html": [
       "<div>\n",
       "<style scoped>\n",
       "    .dataframe tbody tr th:only-of-type {\n",
       "        vertical-align: middle;\n",
       "    }\n",
       "\n",
       "    .dataframe tbody tr th {\n",
       "        vertical-align: top;\n",
       "    }\n",
       "\n",
       "    .dataframe thead th {\n",
       "        text-align: right;\n",
       "    }\n",
       "</style>\n",
       "<table border=\"1\" class=\"dataframe\">\n",
       "  <thead>\n",
       "    <tr style=\"text-align: right;\">\n",
       "      <th></th>\n",
       "      <th>Date</th>\n",
       "      <th>AH</th>\n",
       "      <th>CGH</th>\n",
       "      <th>KTPH</th>\n",
       "      <th>NTFGH</th>\n",
       "      <th>NUH(A)</th>\n",
       "      <th>SGH</th>\n",
       "      <th>SKH</th>\n",
       "      <th>TTSH</th>\n",
       "      <th>Year</th>\n",
       "      <th>Month</th>\n",
       "      <th>DayOfWeek</th>\n",
       "    </tr>\n",
       "  </thead>\n",
       "  <tbody>\n",
       "    <tr>\n",
       "      <th>0</th>\n",
       "      <td>2023-01-01</td>\n",
       "      <td>64</td>\n",
       "      <td>351</td>\n",
       "      <td>286</td>\n",
       "      <td>252</td>\n",
       "      <td>257</td>\n",
       "      <td>309</td>\n",
       "      <td>333</td>\n",
       "      <td>336</td>\n",
       "      <td>2023</td>\n",
       "      <td>1</td>\n",
       "      <td>Sunday</td>\n",
       "    </tr>\n",
       "    <tr>\n",
       "      <th>1</th>\n",
       "      <td>2023-01-02</td>\n",
       "      <td>61</td>\n",
       "      <td>386</td>\n",
       "      <td>326</td>\n",
       "      <td>314</td>\n",
       "      <td>334</td>\n",
       "      <td>342</td>\n",
       "      <td>346</td>\n",
       "      <td>370</td>\n",
       "      <td>2023</td>\n",
       "      <td>1</td>\n",
       "      <td>Monday</td>\n",
       "    </tr>\n",
       "    <tr>\n",
       "      <th>2</th>\n",
       "      <td>2023-01-03</td>\n",
       "      <td>76</td>\n",
       "      <td>436</td>\n",
       "      <td>401</td>\n",
       "      <td>364</td>\n",
       "      <td>352</td>\n",
       "      <td>343</td>\n",
       "      <td>397</td>\n",
       "      <td>422</td>\n",
       "      <td>2023</td>\n",
       "      <td>1</td>\n",
       "      <td>Tuesday</td>\n",
       "    </tr>\n",
       "    <tr>\n",
       "      <th>3</th>\n",
       "      <td>2023-01-04</td>\n",
       "      <td>74</td>\n",
       "      <td>354</td>\n",
       "      <td>311</td>\n",
       "      <td>330</td>\n",
       "      <td>286</td>\n",
       "      <td>305</td>\n",
       "      <td>327</td>\n",
       "      <td>361</td>\n",
       "      <td>2023</td>\n",
       "      <td>1</td>\n",
       "      <td>Wednesday</td>\n",
       "    </tr>\n",
       "    <tr>\n",
       "      <th>4</th>\n",
       "      <td>2023-01-05</td>\n",
       "      <td>61</td>\n",
       "      <td>373</td>\n",
       "      <td>335</td>\n",
       "      <td>320</td>\n",
       "      <td>309</td>\n",
       "      <td>337</td>\n",
       "      <td>351</td>\n",
       "      <td>366</td>\n",
       "      <td>2023</td>\n",
       "      <td>1</td>\n",
       "      <td>Thursday</td>\n",
       "    </tr>\n",
       "    <tr>\n",
       "      <th>...</th>\n",
       "      <td>...</td>\n",
       "      <td>...</td>\n",
       "      <td>...</td>\n",
       "      <td>...</td>\n",
       "      <td>...</td>\n",
       "      <td>...</td>\n",
       "      <td>...</td>\n",
       "      <td>...</td>\n",
       "      <td>...</td>\n",
       "      <td>...</td>\n",
       "      <td>...</td>\n",
       "      <td>...</td>\n",
       "    </tr>\n",
       "    <tr>\n",
       "      <th>506</th>\n",
       "      <td>2024-05-21</td>\n",
       "      <td>60</td>\n",
       "      <td>421</td>\n",
       "      <td>289</td>\n",
       "      <td>330</td>\n",
       "      <td>319</td>\n",
       "      <td>317</td>\n",
       "      <td>381</td>\n",
       "      <td>401</td>\n",
       "      <td>2024</td>\n",
       "      <td>5</td>\n",
       "      <td>Tuesday</td>\n",
       "    </tr>\n",
       "    <tr>\n",
       "      <th>507</th>\n",
       "      <td>2024-05-22</td>\n",
       "      <td>72</td>\n",
       "      <td>337</td>\n",
       "      <td>264</td>\n",
       "      <td>276</td>\n",
       "      <td>236</td>\n",
       "      <td>295</td>\n",
       "      <td>317</td>\n",
       "      <td>282</td>\n",
       "      <td>2024</td>\n",
       "      <td>5</td>\n",
       "      <td>Wednesday</td>\n",
       "    </tr>\n",
       "    <tr>\n",
       "      <th>508</th>\n",
       "      <td>2024-05-23</td>\n",
       "      <td>78</td>\n",
       "      <td>403</td>\n",
       "      <td>302</td>\n",
       "      <td>391</td>\n",
       "      <td>332</td>\n",
       "      <td>384</td>\n",
       "      <td>360</td>\n",
       "      <td>415</td>\n",
       "      <td>2024</td>\n",
       "      <td>5</td>\n",
       "      <td>Thursday</td>\n",
       "    </tr>\n",
       "    <tr>\n",
       "      <th>509</th>\n",
       "      <td>2024-05-24</td>\n",
       "      <td>55</td>\n",
       "      <td>353</td>\n",
       "      <td>270</td>\n",
       "      <td>307</td>\n",
       "      <td>309</td>\n",
       "      <td>329</td>\n",
       "      <td>359</td>\n",
       "      <td>383</td>\n",
       "      <td>2024</td>\n",
       "      <td>5</td>\n",
       "      <td>Friday</td>\n",
       "    </tr>\n",
       "    <tr>\n",
       "      <th>510</th>\n",
       "      <td>2024-05-25</td>\n",
       "      <td>71</td>\n",
       "      <td>364</td>\n",
       "      <td>253</td>\n",
       "      <td>299</td>\n",
       "      <td>269</td>\n",
       "      <td>321</td>\n",
       "      <td>313</td>\n",
       "      <td>312</td>\n",
       "      <td>2024</td>\n",
       "      <td>5</td>\n",
       "      <td>Saturday</td>\n",
       "    </tr>\n",
       "  </tbody>\n",
       "</table>\n",
       "<p>511 rows × 12 columns</p>\n",
       "</div>"
      ],
      "text/plain": [
       "          Date  AH  CGH  KTPH  NTFGH  NUH(A)  SGH  SKH  TTSH  Year  Month  \\\n",
       "0   2023-01-01  64  351   286    252     257  309  333   336  2023      1   \n",
       "1   2023-01-02  61  386   326    314     334  342  346   370  2023      1   \n",
       "2   2023-01-03  76  436   401    364     352  343  397   422  2023      1   \n",
       "3   2023-01-04  74  354   311    330     286  305  327   361  2023      1   \n",
       "4   2023-01-05  61  373   335    320     309  337  351   366  2023      1   \n",
       "..         ...  ..  ...   ...    ...     ...  ...  ...   ...   ...    ...   \n",
       "506 2024-05-21  60  421   289    330     319  317  381   401  2024      5   \n",
       "507 2024-05-22  72  337   264    276     236  295  317   282  2024      5   \n",
       "508 2024-05-23  78  403   302    391     332  384  360   415  2024      5   \n",
       "509 2024-05-24  55  353   270    307     309  329  359   383  2024      5   \n",
       "510 2024-05-25  71  364   253    299     269  321  313   312  2024      5   \n",
       "\n",
       "     DayOfWeek  \n",
       "0       Sunday  \n",
       "1       Monday  \n",
       "2      Tuesday  \n",
       "3    Wednesday  \n",
       "4     Thursday  \n",
       "..         ...  \n",
       "506    Tuesday  \n",
       "507  Wednesday  \n",
       "508   Thursday  \n",
       "509     Friday  \n",
       "510   Saturday  \n",
       "\n",
       "[511 rows x 12 columns]"
      ]
     },
     "execution_count": 443,
     "metadata": {},
     "output_type": "execute_result"
    }
   ],
   "source": [
    "# Convert Date column to Datetime format\n",
    "df['Date'] = pd.to_datetime(df['Date'], format='%a, %d/%m/%y')\n",
    "\n",
    "# Extract day of the week & year\n",
    "df['Year'] = df['Date'].dt.year\n",
    "df['Month'] = df['Date'].dt.month\n",
    "df['DayOfWeek'] = df['Date'].dt.day_name()\n",
    "\n",
    "# View updated dataframe\n",
    "df"
   ]
  },
  {
   "cell_type": "code",
   "execution_count": 444,
   "metadata": {},
   "outputs": [],
   "source": [
    "# Filter the dataframe for the year 2023\n",
    "df_2023 = df[df['Year'] == 2023]"
   ]
  },
  {
   "cell_type": "markdown",
   "metadata": {},
   "source": [
    "---\n",
    "# 3. Exploratory Data Analysis"
   ]
  },
  {
   "cell_type": "markdown",
   "metadata": {},
   "source": [
    "## 3.1 Generate a line plot for daily attendance at SGH in 2023\n",
    "\n",
    "Generate a line plot for daily attendance at SGH in 2023, with time on the $x$-axis and count on the $y$-axis as an overview of the data patterns and trends."
   ]
  },
  {
   "cell_type": "code",
   "execution_count": 445,
   "metadata": {},
   "outputs": [
    {
     "data": {
      "application/vnd.plotly.v1+json": {
       "config": {
        "plotlyServerURL": "https://plot.ly"
       },
       "data": [
        {
         "hovertemplate": "Date=%{x}<br>Attendances=%{y}<extra></extra>",
         "legendgroup": "",
         "line": {
          "color": "#636efa",
          "dash": "solid"
         },
         "marker": {
          "symbol": "circle"
         },
         "mode": "lines",
         "name": "",
         "orientation": "v",
         "showlegend": false,
         "type": "scatter",
         "x": [
          "2023-01-01T00:00:00",
          "2023-01-02T00:00:00",
          "2023-01-03T00:00:00",
          "2023-01-04T00:00:00",
          "2023-01-05T00:00:00",
          "2023-01-06T00:00:00",
          "2023-01-07T00:00:00",
          "2023-01-08T00:00:00",
          "2023-01-09T00:00:00",
          "2023-01-10T00:00:00",
          "2023-01-11T00:00:00",
          "2023-01-12T00:00:00",
          "2023-01-13T00:00:00",
          "2023-01-14T00:00:00",
          "2023-01-15T00:00:00",
          "2023-01-16T00:00:00",
          "2023-01-17T00:00:00",
          "2023-01-18T00:00:00",
          "2023-01-19T00:00:00",
          "2023-01-20T00:00:00",
          "2023-01-21T00:00:00",
          "2023-01-22T00:00:00",
          "2023-01-23T00:00:00",
          "2023-01-24T00:00:00",
          "2023-01-25T00:00:00",
          "2023-01-26T00:00:00",
          "2023-01-27T00:00:00",
          "2023-01-28T00:00:00",
          "2023-01-29T00:00:00",
          "2023-01-30T00:00:00",
          "2023-01-31T00:00:00",
          "2023-02-01T00:00:00",
          "2023-02-02T00:00:00",
          "2023-02-03T00:00:00",
          "2023-02-04T00:00:00",
          "2023-02-05T00:00:00",
          "2023-02-06T00:00:00",
          "2023-02-07T00:00:00",
          "2023-02-08T00:00:00",
          "2023-02-09T00:00:00",
          "2023-02-10T00:00:00",
          "2023-02-11T00:00:00",
          "2023-02-12T00:00:00",
          "2023-02-13T00:00:00",
          "2023-02-14T00:00:00",
          "2023-02-15T00:00:00",
          "2023-02-16T00:00:00",
          "2023-02-17T00:00:00",
          "2023-02-18T00:00:00",
          "2023-02-19T00:00:00",
          "2023-02-20T00:00:00",
          "2023-02-21T00:00:00",
          "2023-02-22T00:00:00",
          "2023-02-23T00:00:00",
          "2023-02-24T00:00:00",
          "2023-02-25T00:00:00",
          "2023-02-26T00:00:00",
          "2023-02-27T00:00:00",
          "2023-02-28T00:00:00",
          "2023-03-01T00:00:00",
          "2023-03-02T00:00:00",
          "2023-03-03T00:00:00",
          "2023-03-04T00:00:00",
          "2023-03-05T00:00:00",
          "2023-03-06T00:00:00",
          "2023-03-07T00:00:00",
          "2023-03-08T00:00:00",
          "2023-03-09T00:00:00",
          "2023-03-10T00:00:00",
          "2023-03-11T00:00:00",
          "2023-03-12T00:00:00",
          "2023-03-13T00:00:00",
          "2023-03-14T00:00:00",
          "2023-03-15T00:00:00",
          "2023-03-16T00:00:00",
          "2023-03-17T00:00:00",
          "2023-03-18T00:00:00",
          "2023-03-19T00:00:00",
          "2023-03-20T00:00:00",
          "2023-03-21T00:00:00",
          "2023-03-22T00:00:00",
          "2023-03-23T00:00:00",
          "2023-03-24T00:00:00",
          "2023-03-25T00:00:00",
          "2023-03-26T00:00:00",
          "2023-03-27T00:00:00",
          "2023-03-28T00:00:00",
          "2023-03-29T00:00:00",
          "2023-03-30T00:00:00",
          "2023-03-31T00:00:00",
          "2023-04-01T00:00:00",
          "2023-04-02T00:00:00",
          "2023-04-03T00:00:00",
          "2023-04-04T00:00:00",
          "2023-04-05T00:00:00",
          "2023-04-06T00:00:00",
          "2023-04-07T00:00:00",
          "2023-04-08T00:00:00",
          "2023-04-09T00:00:00",
          "2023-04-10T00:00:00",
          "2023-04-11T00:00:00",
          "2023-04-12T00:00:00",
          "2023-04-13T00:00:00",
          "2023-04-14T00:00:00",
          "2023-04-15T00:00:00",
          "2023-04-16T00:00:00",
          "2023-04-17T00:00:00",
          "2023-04-18T00:00:00",
          "2023-04-19T00:00:00",
          "2023-04-20T00:00:00",
          "2023-04-21T00:00:00",
          "2023-04-22T00:00:00",
          "2023-04-23T00:00:00",
          "2023-04-24T00:00:00",
          "2023-04-25T00:00:00",
          "2023-04-26T00:00:00",
          "2023-04-27T00:00:00",
          "2023-04-28T00:00:00",
          "2023-04-29T00:00:00",
          "2023-04-30T00:00:00",
          "2023-05-01T00:00:00",
          "2023-05-02T00:00:00",
          "2023-05-03T00:00:00",
          "2023-05-04T00:00:00",
          "2023-05-05T00:00:00",
          "2023-05-06T00:00:00",
          "2023-05-07T00:00:00",
          "2023-05-08T00:00:00",
          "2023-05-09T00:00:00",
          "2023-05-10T00:00:00",
          "2023-05-11T00:00:00",
          "2023-05-12T00:00:00",
          "2023-05-13T00:00:00",
          "2023-05-14T00:00:00",
          "2023-05-15T00:00:00",
          "2023-05-16T00:00:00",
          "2023-05-17T00:00:00",
          "2023-05-18T00:00:00",
          "2023-05-19T00:00:00",
          "2023-05-20T00:00:00",
          "2023-05-21T00:00:00",
          "2023-05-22T00:00:00",
          "2023-05-23T00:00:00",
          "2023-05-24T00:00:00",
          "2023-05-25T00:00:00",
          "2023-05-26T00:00:00",
          "2023-05-27T00:00:00",
          "2023-05-28T00:00:00",
          "2023-05-29T00:00:00",
          "2023-05-30T00:00:00",
          "2023-05-31T00:00:00",
          "2023-06-01T00:00:00",
          "2023-06-02T00:00:00",
          "2023-06-03T00:00:00",
          "2023-06-04T00:00:00",
          "2023-06-05T00:00:00",
          "2023-06-06T00:00:00",
          "2023-06-07T00:00:00",
          "2023-06-08T00:00:00",
          "2023-06-09T00:00:00",
          "2023-06-10T00:00:00",
          "2023-06-11T00:00:00",
          "2023-06-12T00:00:00",
          "2023-06-13T00:00:00",
          "2023-06-14T00:00:00",
          "2023-06-15T00:00:00",
          "2023-06-16T00:00:00",
          "2023-06-17T00:00:00",
          "2023-06-18T00:00:00",
          "2023-06-19T00:00:00",
          "2023-06-20T00:00:00",
          "2023-06-21T00:00:00",
          "2023-06-22T00:00:00",
          "2023-06-23T00:00:00",
          "2023-06-24T00:00:00",
          "2023-06-25T00:00:00",
          "2023-06-26T00:00:00",
          "2023-06-27T00:00:00",
          "2023-06-28T00:00:00",
          "2023-06-29T00:00:00",
          "2023-06-30T00:00:00",
          "2023-07-01T00:00:00",
          "2023-07-02T00:00:00",
          "2023-07-03T00:00:00",
          "2023-07-04T00:00:00",
          "2023-07-05T00:00:00",
          "2023-07-06T00:00:00",
          "2023-07-07T00:00:00",
          "2023-07-08T00:00:00",
          "2023-07-09T00:00:00",
          "2023-07-10T00:00:00",
          "2023-07-11T00:00:00",
          "2023-07-12T00:00:00",
          "2023-07-13T00:00:00",
          "2023-07-14T00:00:00",
          "2023-07-15T00:00:00",
          "2023-07-16T00:00:00",
          "2023-07-17T00:00:00",
          "2023-07-18T00:00:00",
          "2023-07-19T00:00:00",
          "2023-07-20T00:00:00",
          "2023-07-21T00:00:00",
          "2023-07-22T00:00:00",
          "2023-07-23T00:00:00",
          "2023-07-24T00:00:00",
          "2023-07-25T00:00:00",
          "2023-07-26T00:00:00",
          "2023-07-27T00:00:00",
          "2023-07-28T00:00:00",
          "2023-07-29T00:00:00",
          "2023-07-30T00:00:00",
          "2023-07-31T00:00:00",
          "2023-08-01T00:00:00",
          "2023-08-02T00:00:00",
          "2023-08-03T00:00:00",
          "2023-08-04T00:00:00",
          "2023-08-05T00:00:00",
          "2023-08-06T00:00:00",
          "2023-08-07T00:00:00",
          "2023-08-08T00:00:00",
          "2023-08-09T00:00:00",
          "2023-08-10T00:00:00",
          "2023-08-11T00:00:00",
          "2023-08-12T00:00:00",
          "2023-08-13T00:00:00",
          "2023-08-14T00:00:00",
          "2023-08-15T00:00:00",
          "2023-08-16T00:00:00",
          "2023-08-17T00:00:00",
          "2023-08-18T00:00:00",
          "2023-08-19T00:00:00",
          "2023-08-20T00:00:00",
          "2023-08-21T00:00:00",
          "2023-08-22T00:00:00",
          "2023-08-23T00:00:00",
          "2023-08-24T00:00:00",
          "2023-08-25T00:00:00",
          "2023-08-26T00:00:00",
          "2023-08-27T00:00:00",
          "2023-08-28T00:00:00",
          "2023-08-29T00:00:00",
          "2023-08-30T00:00:00",
          "2023-08-31T00:00:00",
          "2023-09-01T00:00:00",
          "2023-09-02T00:00:00",
          "2023-09-03T00:00:00",
          "2023-09-04T00:00:00",
          "2023-09-05T00:00:00",
          "2023-09-06T00:00:00",
          "2023-09-07T00:00:00",
          "2023-09-08T00:00:00",
          "2023-09-09T00:00:00",
          "2023-09-10T00:00:00",
          "2023-09-11T00:00:00",
          "2023-09-12T00:00:00",
          "2023-09-13T00:00:00",
          "2023-09-14T00:00:00",
          "2023-09-15T00:00:00",
          "2023-09-16T00:00:00",
          "2023-09-17T00:00:00",
          "2023-09-18T00:00:00",
          "2023-09-19T00:00:00",
          "2023-09-20T00:00:00",
          "2023-09-21T00:00:00",
          "2023-09-22T00:00:00",
          "2023-09-23T00:00:00",
          "2023-09-24T00:00:00",
          "2023-09-25T00:00:00",
          "2023-09-26T00:00:00",
          "2023-09-27T00:00:00",
          "2023-09-28T00:00:00",
          "2023-09-29T00:00:00",
          "2023-09-30T00:00:00",
          "2023-10-01T00:00:00",
          "2023-10-02T00:00:00",
          "2023-10-03T00:00:00",
          "2023-10-04T00:00:00",
          "2023-10-05T00:00:00",
          "2023-10-06T00:00:00",
          "2023-10-07T00:00:00",
          "2023-10-08T00:00:00",
          "2023-10-09T00:00:00",
          "2023-10-10T00:00:00",
          "2023-10-11T00:00:00",
          "2023-10-12T00:00:00",
          "2023-10-13T00:00:00",
          "2023-10-14T00:00:00",
          "2023-10-15T00:00:00",
          "2023-10-16T00:00:00",
          "2023-10-17T00:00:00",
          "2023-10-18T00:00:00",
          "2023-10-19T00:00:00",
          "2023-10-20T00:00:00",
          "2023-10-21T00:00:00",
          "2023-10-22T00:00:00",
          "2023-10-23T00:00:00",
          "2023-10-24T00:00:00",
          "2023-10-25T00:00:00",
          "2023-10-26T00:00:00",
          "2023-10-27T00:00:00",
          "2023-10-28T00:00:00",
          "2023-10-29T00:00:00",
          "2023-10-30T00:00:00",
          "2023-10-31T00:00:00",
          "2023-11-01T00:00:00",
          "2023-11-02T00:00:00",
          "2023-11-03T00:00:00",
          "2023-11-04T00:00:00",
          "2023-11-05T00:00:00",
          "2023-11-06T00:00:00",
          "2023-11-07T00:00:00",
          "2023-11-08T00:00:00",
          "2023-11-09T00:00:00",
          "2023-11-10T00:00:00",
          "2023-11-11T00:00:00",
          "2023-11-12T00:00:00",
          "2023-11-13T00:00:00",
          "2023-11-14T00:00:00",
          "2023-11-15T00:00:00",
          "2023-11-16T00:00:00",
          "2023-11-17T00:00:00",
          "2023-11-18T00:00:00",
          "2023-11-19T00:00:00",
          "2023-11-20T00:00:00",
          "2023-11-21T00:00:00",
          "2023-11-22T00:00:00",
          "2023-11-23T00:00:00",
          "2023-11-24T00:00:00",
          "2023-11-25T00:00:00",
          "2023-11-26T00:00:00",
          "2023-11-27T00:00:00",
          "2023-11-28T00:00:00",
          "2023-11-29T00:00:00",
          "2023-11-30T00:00:00",
          "2023-12-01T00:00:00",
          "2023-12-02T00:00:00",
          "2023-12-03T00:00:00",
          "2023-12-04T00:00:00",
          "2023-12-05T00:00:00",
          "2023-12-06T00:00:00",
          "2023-12-07T00:00:00",
          "2023-12-08T00:00:00",
          "2023-12-09T00:00:00",
          "2023-12-10T00:00:00",
          "2023-12-11T00:00:00",
          "2023-12-12T00:00:00",
          "2023-12-13T00:00:00",
          "2023-12-14T00:00:00",
          "2023-12-15T00:00:00",
          "2023-12-16T00:00:00",
          "2023-12-17T00:00:00",
          "2023-12-18T00:00:00",
          "2023-12-19T00:00:00",
          "2023-12-20T00:00:00",
          "2023-12-21T00:00:00",
          "2023-12-22T00:00:00",
          "2023-12-23T00:00:00",
          "2023-12-24T00:00:00",
          "2023-12-25T00:00:00",
          "2023-12-26T00:00:00",
          "2023-12-27T00:00:00",
          "2023-12-28T00:00:00",
          "2023-12-29T00:00:00",
          "2023-12-30T00:00:00",
          "2023-12-31T00:00:00"
         ],
         "xaxis": "x",
         "y": [
          309,
          342,
          343,
          305,
          337,
          302,
          286,
          257,
          359,
          301,
          307,
          302,
          275,
          281,
          262,
          342,
          278,
          290,
          277,
          293,
          252,
          208,
          303,
          324,
          323,
          304,
          304,
          236,
          247,
          360,
          325,
          347,
          343,
          305,
          276,
          259,
          399,
          360,
          340,
          350,
          311,
          304,
          268,
          399,
          318,
          293,
          303,
          335,
          312,
          305,
          367,
          322,
          353,
          328,
          293,
          292,
          265,
          358,
          259,
          296,
          289,
          305,
          286,
          278,
          354,
          320,
          341,
          329,
          317,
          305,
          308,
          411,
          332,
          321,
          324,
          337,
          297,
          316,
          379,
          336,
          346,
          308,
          321,
          276,
          277,
          379,
          334,
          299,
          316,
          304,
          326,
          277,
          367,
          321,
          291,
          337,
          261,
          306,
          292,
          398,
          365,
          307,
          307,
          330,
          303,
          299,
          390,
          329,
          314,
          315,
          304,
          269,
          299,
          348,
          361,
          323,
          299,
          305,
          284,
          262,
          344,
          377,
          313,
          320,
          280,
          285,
          295,
          398,
          327,
          325,
          336,
          308,
          308,
          286,
          379,
          313,
          321,
          346,
          282,
          286,
          243,
          388,
          309,
          320,
          297,
          312,
          272,
          246,
          349,
          314,
          295,
          308,
          258,
          320,
          244,
          359,
          312,
          308,
          349,
          322,
          290,
          271,
          344,
          302,
          316,
          302,
          316,
          281,
          239,
          359,
          321,
          298,
          316,
          339,
          295,
          277,
          352,
          325,
          322,
          271,
          357,
          313,
          297,
          349,
          342,
          291,
          327,
          310,
          308,
          278,
          330,
          330,
          328,
          320,
          305,
          318,
          316,
          396,
          315,
          318,
          317,
          318,
          291,
          297,
          353,
          347,
          326,
          322,
          329,
          303,
          286,
          372,
          330,
          333,
          316,
          332,
          295,
          249,
          368,
          344,
          248,
          350,
          336,
          290,
          306,
          372,
          309,
          294,
          320,
          333,
          293,
          295,
          390,
          328,
          312,
          317,
          324,
          289,
          314,
          409,
          321,
          318,
          304,
          258,
          325,
          295,
          403,
          341,
          306,
          297,
          327,
          298,
          292,
          346,
          373,
          312,
          312,
          323,
          298,
          305,
          374,
          332,
          289,
          327,
          311,
          321,
          281,
          406,
          333,
          324,
          294,
          338,
          312,
          286,
          394,
          322,
          305,
          369,
          326,
          289,
          303,
          371,
          367,
          321,
          335,
          300,
          298,
          287,
          387,
          301,
          310,
          321,
          320,
          315,
          253,
          388,
          265,
          317,
          290,
          304,
          281,
          300,
          353,
          320,
          318,
          337,
          283,
          281,
          300,
          362,
          317,
          314,
          291,
          295,
          351,
          280,
          305,
          375,
          324,
          327,
          309,
          292,
          247,
          379,
          328,
          324,
          375,
          344,
          260,
          254,
          389,
          333,
          302,
          347,
          324,
          309,
          300,
          384,
          333,
          321,
          331,
          341,
          346,
          263,
          398,
          325,
          320,
          298,
          319,
          291,
          310,
          351,
          327,
          319,
          292,
          320,
          271,
          260,
          276,
          357,
          301,
          323,
          297,
          308,
          265
         ],
         "yaxis": "y"
        }
       ],
       "layout": {
        "height": 300,
        "legend": {
         "title": {
          "text": "Legend"
         },
         "tracegroupgap": 0
        },
        "margin": {
         "b": 20,
         "l": 20,
         "r": 20,
         "t": 40
        },
        "template": {
         "data": {
          "bar": [
           {
            "error_x": {
             "color": "#2a3f5f"
            },
            "error_y": {
             "color": "#2a3f5f"
            },
            "marker": {
             "line": {
              "color": "#E5ECF6",
              "width": 0.5
             },
             "pattern": {
              "fillmode": "overlay",
              "size": 10,
              "solidity": 0.2
             }
            },
            "type": "bar"
           }
          ],
          "barpolar": [
           {
            "marker": {
             "line": {
              "color": "#E5ECF6",
              "width": 0.5
             },
             "pattern": {
              "fillmode": "overlay",
              "size": 10,
              "solidity": 0.2
             }
            },
            "type": "barpolar"
           }
          ],
          "carpet": [
           {
            "aaxis": {
             "endlinecolor": "#2a3f5f",
             "gridcolor": "white",
             "linecolor": "white",
             "minorgridcolor": "white",
             "startlinecolor": "#2a3f5f"
            },
            "baxis": {
             "endlinecolor": "#2a3f5f",
             "gridcolor": "white",
             "linecolor": "white",
             "minorgridcolor": "white",
             "startlinecolor": "#2a3f5f"
            },
            "type": "carpet"
           }
          ],
          "choropleth": [
           {
            "colorbar": {
             "outlinewidth": 0,
             "ticks": ""
            },
            "type": "choropleth"
           }
          ],
          "contour": [
           {
            "colorbar": {
             "outlinewidth": 0,
             "ticks": ""
            },
            "colorscale": [
             [
              0,
              "#0d0887"
             ],
             [
              0.1111111111111111,
              "#46039f"
             ],
             [
              0.2222222222222222,
              "#7201a8"
             ],
             [
              0.3333333333333333,
              "#9c179e"
             ],
             [
              0.4444444444444444,
              "#bd3786"
             ],
             [
              0.5555555555555556,
              "#d8576b"
             ],
             [
              0.6666666666666666,
              "#ed7953"
             ],
             [
              0.7777777777777778,
              "#fb9f3a"
             ],
             [
              0.8888888888888888,
              "#fdca26"
             ],
             [
              1,
              "#f0f921"
             ]
            ],
            "type": "contour"
           }
          ],
          "contourcarpet": [
           {
            "colorbar": {
             "outlinewidth": 0,
             "ticks": ""
            },
            "type": "contourcarpet"
           }
          ],
          "heatmap": [
           {
            "colorbar": {
             "outlinewidth": 0,
             "ticks": ""
            },
            "colorscale": [
             [
              0,
              "#0d0887"
             ],
             [
              0.1111111111111111,
              "#46039f"
             ],
             [
              0.2222222222222222,
              "#7201a8"
             ],
             [
              0.3333333333333333,
              "#9c179e"
             ],
             [
              0.4444444444444444,
              "#bd3786"
             ],
             [
              0.5555555555555556,
              "#d8576b"
             ],
             [
              0.6666666666666666,
              "#ed7953"
             ],
             [
              0.7777777777777778,
              "#fb9f3a"
             ],
             [
              0.8888888888888888,
              "#fdca26"
             ],
             [
              1,
              "#f0f921"
             ]
            ],
            "type": "heatmap"
           }
          ],
          "heatmapgl": [
           {
            "colorbar": {
             "outlinewidth": 0,
             "ticks": ""
            },
            "colorscale": [
             [
              0,
              "#0d0887"
             ],
             [
              0.1111111111111111,
              "#46039f"
             ],
             [
              0.2222222222222222,
              "#7201a8"
             ],
             [
              0.3333333333333333,
              "#9c179e"
             ],
             [
              0.4444444444444444,
              "#bd3786"
             ],
             [
              0.5555555555555556,
              "#d8576b"
             ],
             [
              0.6666666666666666,
              "#ed7953"
             ],
             [
              0.7777777777777778,
              "#fb9f3a"
             ],
             [
              0.8888888888888888,
              "#fdca26"
             ],
             [
              1,
              "#f0f921"
             ]
            ],
            "type": "heatmapgl"
           }
          ],
          "histogram": [
           {
            "marker": {
             "pattern": {
              "fillmode": "overlay",
              "size": 10,
              "solidity": 0.2
             }
            },
            "type": "histogram"
           }
          ],
          "histogram2d": [
           {
            "colorbar": {
             "outlinewidth": 0,
             "ticks": ""
            },
            "colorscale": [
             [
              0,
              "#0d0887"
             ],
             [
              0.1111111111111111,
              "#46039f"
             ],
             [
              0.2222222222222222,
              "#7201a8"
             ],
             [
              0.3333333333333333,
              "#9c179e"
             ],
             [
              0.4444444444444444,
              "#bd3786"
             ],
             [
              0.5555555555555556,
              "#d8576b"
             ],
             [
              0.6666666666666666,
              "#ed7953"
             ],
             [
              0.7777777777777778,
              "#fb9f3a"
             ],
             [
              0.8888888888888888,
              "#fdca26"
             ],
             [
              1,
              "#f0f921"
             ]
            ],
            "type": "histogram2d"
           }
          ],
          "histogram2dcontour": [
           {
            "colorbar": {
             "outlinewidth": 0,
             "ticks": ""
            },
            "colorscale": [
             [
              0,
              "#0d0887"
             ],
             [
              0.1111111111111111,
              "#46039f"
             ],
             [
              0.2222222222222222,
              "#7201a8"
             ],
             [
              0.3333333333333333,
              "#9c179e"
             ],
             [
              0.4444444444444444,
              "#bd3786"
             ],
             [
              0.5555555555555556,
              "#d8576b"
             ],
             [
              0.6666666666666666,
              "#ed7953"
             ],
             [
              0.7777777777777778,
              "#fb9f3a"
             ],
             [
              0.8888888888888888,
              "#fdca26"
             ],
             [
              1,
              "#f0f921"
             ]
            ],
            "type": "histogram2dcontour"
           }
          ],
          "mesh3d": [
           {
            "colorbar": {
             "outlinewidth": 0,
             "ticks": ""
            },
            "type": "mesh3d"
           }
          ],
          "parcoords": [
           {
            "line": {
             "colorbar": {
              "outlinewidth": 0,
              "ticks": ""
             }
            },
            "type": "parcoords"
           }
          ],
          "pie": [
           {
            "automargin": true,
            "type": "pie"
           }
          ],
          "scatter": [
           {
            "fillpattern": {
             "fillmode": "overlay",
             "size": 10,
             "solidity": 0.2
            },
            "type": "scatter"
           }
          ],
          "scatter3d": [
           {
            "line": {
             "colorbar": {
              "outlinewidth": 0,
              "ticks": ""
             }
            },
            "marker": {
             "colorbar": {
              "outlinewidth": 0,
              "ticks": ""
             }
            },
            "type": "scatter3d"
           }
          ],
          "scattercarpet": [
           {
            "marker": {
             "colorbar": {
              "outlinewidth": 0,
              "ticks": ""
             }
            },
            "type": "scattercarpet"
           }
          ],
          "scattergeo": [
           {
            "marker": {
             "colorbar": {
              "outlinewidth": 0,
              "ticks": ""
             }
            },
            "type": "scattergeo"
           }
          ],
          "scattergl": [
           {
            "marker": {
             "colorbar": {
              "outlinewidth": 0,
              "ticks": ""
             }
            },
            "type": "scattergl"
           }
          ],
          "scattermapbox": [
           {
            "marker": {
             "colorbar": {
              "outlinewidth": 0,
              "ticks": ""
             }
            },
            "type": "scattermapbox"
           }
          ],
          "scatterpolar": [
           {
            "marker": {
             "colorbar": {
              "outlinewidth": 0,
              "ticks": ""
             }
            },
            "type": "scatterpolar"
           }
          ],
          "scatterpolargl": [
           {
            "marker": {
             "colorbar": {
              "outlinewidth": 0,
              "ticks": ""
             }
            },
            "type": "scatterpolargl"
           }
          ],
          "scatterternary": [
           {
            "marker": {
             "colorbar": {
              "outlinewidth": 0,
              "ticks": ""
             }
            },
            "type": "scatterternary"
           }
          ],
          "surface": [
           {
            "colorbar": {
             "outlinewidth": 0,
             "ticks": ""
            },
            "colorscale": [
             [
              0,
              "#0d0887"
             ],
             [
              0.1111111111111111,
              "#46039f"
             ],
             [
              0.2222222222222222,
              "#7201a8"
             ],
             [
              0.3333333333333333,
              "#9c179e"
             ],
             [
              0.4444444444444444,
              "#bd3786"
             ],
             [
              0.5555555555555556,
              "#d8576b"
             ],
             [
              0.6666666666666666,
              "#ed7953"
             ],
             [
              0.7777777777777778,
              "#fb9f3a"
             ],
             [
              0.8888888888888888,
              "#fdca26"
             ],
             [
              1,
              "#f0f921"
             ]
            ],
            "type": "surface"
           }
          ],
          "table": [
           {
            "cells": {
             "fill": {
              "color": "#EBF0F8"
             },
             "line": {
              "color": "white"
             }
            },
            "header": {
             "fill": {
              "color": "#C8D4E3"
             },
             "line": {
              "color": "white"
             }
            },
            "type": "table"
           }
          ]
         },
         "layout": {
          "annotationdefaults": {
           "arrowcolor": "#2a3f5f",
           "arrowhead": 0,
           "arrowwidth": 1
          },
          "autotypenumbers": "strict",
          "coloraxis": {
           "colorbar": {
            "outlinewidth": 0,
            "ticks": ""
           }
          },
          "colorscale": {
           "diverging": [
            [
             0,
             "#8e0152"
            ],
            [
             0.1,
             "#c51b7d"
            ],
            [
             0.2,
             "#de77ae"
            ],
            [
             0.3,
             "#f1b6da"
            ],
            [
             0.4,
             "#fde0ef"
            ],
            [
             0.5,
             "#f7f7f7"
            ],
            [
             0.6,
             "#e6f5d0"
            ],
            [
             0.7,
             "#b8e186"
            ],
            [
             0.8,
             "#7fbc41"
            ],
            [
             0.9,
             "#4d9221"
            ],
            [
             1,
             "#276419"
            ]
           ],
           "sequential": [
            [
             0,
             "#0d0887"
            ],
            [
             0.1111111111111111,
             "#46039f"
            ],
            [
             0.2222222222222222,
             "#7201a8"
            ],
            [
             0.3333333333333333,
             "#9c179e"
            ],
            [
             0.4444444444444444,
             "#bd3786"
            ],
            [
             0.5555555555555556,
             "#d8576b"
            ],
            [
             0.6666666666666666,
             "#ed7953"
            ],
            [
             0.7777777777777778,
             "#fb9f3a"
            ],
            [
             0.8888888888888888,
             "#fdca26"
            ],
            [
             1,
             "#f0f921"
            ]
           ],
           "sequentialminus": [
            [
             0,
             "#0d0887"
            ],
            [
             0.1111111111111111,
             "#46039f"
            ],
            [
             0.2222222222222222,
             "#7201a8"
            ],
            [
             0.3333333333333333,
             "#9c179e"
            ],
            [
             0.4444444444444444,
             "#bd3786"
            ],
            [
             0.5555555555555556,
             "#d8576b"
            ],
            [
             0.6666666666666666,
             "#ed7953"
            ],
            [
             0.7777777777777778,
             "#fb9f3a"
            ],
            [
             0.8888888888888888,
             "#fdca26"
            ],
            [
             1,
             "#f0f921"
            ]
           ]
          },
          "colorway": [
           "#636efa",
           "#EF553B",
           "#00cc96",
           "#ab63fa",
           "#FFA15A",
           "#19d3f3",
           "#FF6692",
           "#B6E880",
           "#FF97FF",
           "#FECB52"
          ],
          "font": {
           "color": "#2a3f5f"
          },
          "geo": {
           "bgcolor": "white",
           "lakecolor": "white",
           "landcolor": "#E5ECF6",
           "showlakes": true,
           "showland": true,
           "subunitcolor": "white"
          },
          "hoverlabel": {
           "align": "left"
          },
          "hovermode": "closest",
          "mapbox": {
           "style": "light"
          },
          "paper_bgcolor": "white",
          "plot_bgcolor": "#E5ECF6",
          "polar": {
           "angularaxis": {
            "gridcolor": "white",
            "linecolor": "white",
            "ticks": ""
           },
           "bgcolor": "#E5ECF6",
           "radialaxis": {
            "gridcolor": "white",
            "linecolor": "white",
            "ticks": ""
           }
          },
          "scene": {
           "xaxis": {
            "backgroundcolor": "#E5ECF6",
            "gridcolor": "white",
            "gridwidth": 2,
            "linecolor": "white",
            "showbackground": true,
            "ticks": "",
            "zerolinecolor": "white"
           },
           "yaxis": {
            "backgroundcolor": "#E5ECF6",
            "gridcolor": "white",
            "gridwidth": 2,
            "linecolor": "white",
            "showbackground": true,
            "ticks": "",
            "zerolinecolor": "white"
           },
           "zaxis": {
            "backgroundcolor": "#E5ECF6",
            "gridcolor": "white",
            "gridwidth": 2,
            "linecolor": "white",
            "showbackground": true,
            "ticks": "",
            "zerolinecolor": "white"
           }
          },
          "shapedefaults": {
           "line": {
            "color": "#2a3f5f"
           }
          },
          "ternary": {
           "aaxis": {
            "gridcolor": "white",
            "linecolor": "white",
            "ticks": ""
           },
           "baxis": {
            "gridcolor": "white",
            "linecolor": "white",
            "ticks": ""
           },
           "bgcolor": "#E5ECF6",
           "caxis": {
            "gridcolor": "white",
            "linecolor": "white",
            "ticks": ""
           }
          },
          "title": {
           "x": 0.05
          },
          "xaxis": {
           "automargin": true,
           "gridcolor": "white",
           "linecolor": "white",
           "ticks": "",
           "title": {
            "standoff": 15
           },
           "zerolinecolor": "white",
           "zerolinewidth": 2
          },
          "yaxis": {
           "automargin": true,
           "gridcolor": "white",
           "linecolor": "white",
           "ticks": "",
           "title": {
            "standoff": 15
           },
           "zerolinecolor": "white",
           "zerolinewidth": 2
          }
         }
        },
        "title": {
         "text": "Daily Emergency Department Attendances (SGH) in 2023",
         "x": 0.5
        },
        "width": 2500,
        "xaxis": {
         "anchor": "y",
         "domain": [
          0,
          1
         ],
         "dtick": "M1",
         "showgrid": true,
         "title": {
          "text": "Date"
         }
        },
        "yaxis": {
         "anchor": "x",
         "domain": [
          0,
          1
         ],
         "showgrid": true,
         "title": {
          "text": "Attendances"
         }
        }
       }
      }
     },
     "metadata": {},
     "output_type": "display_data"
    }
   ],
   "source": [
    "# Create a line plot with Plotly Express\n",
    "fig = px.line(df_2023, x='Date', y='SGH', title='Daily Emergency Department Attendances (SGH) in 2023', labels={'SGH': 'Attendances', 'Date': 'Date'})\n",
    "\n",
    "# Customize the figure size\n",
    "fig.update_layout(width=2500, height=300, legend_title_text='Legend', title={'x': 0.5}, margin=dict(l=20, r=20, t=40, b=20))\n",
    "\n",
    "# Update x-axis to show all months and add grid lines\n",
    "fig.update_xaxes(dtick=\"M1\", showgrid=True)\n",
    "fig.update_yaxes(showgrid=True)\n",
    "\n",
    "# Show the plot\n",
    "fig.show()"
   ]
  },
  {
   "cell_type": "markdown",
   "metadata": {},
   "source": [
    "## 3.2 Export 2023 Dataframe to CSV"
   ]
  },
  {
   "cell_type": "code",
   "execution_count": 446,
   "metadata": {},
   "outputs": [],
   "source": [
    "df_2023.to_csv('../data/daily_ED_Attendances_by_Hospital_2023.csv')"
   ]
  },
  {
   "cell_type": "code",
   "execution_count": 416,
   "metadata": {},
   "outputs": [],
   "source": [
    "# Create a filter by creating a list of hospitals\n",
    "hospitals = ['SGH']"
   ]
  },
  {
   "cell_type": "markdown",
   "metadata": {},
   "source": [
    "## 3.3 Compare Attendance by Day of Week, Month on Month (MoM)"
   ]
  },
  {
   "cell_type": "code",
   "execution_count": 417,
   "metadata": {},
   "outputs": [
    {
     "data": {
      "image/png": "[encoded data removed]",
      "text/plain": [
       "<Figure size 2500x800 with 1 Axes>"
      ]
     },
     "metadata": {},
     "output_type": "display_data"
    }
   ],
   "source": [
    "# Define a dictionary to map days of the week to colors\n",
    "day_colors = {\n",
    "    'Monday': 'blue',\n",
    "    'Tuesday': 'green',\n",
    "    'Wednesday': 'red',\n",
    "    'Thursday': 'cyan',\n",
    "    'Friday': 'pink',\n",
    "    'Saturday': 'orange',\n",
    "    'Sunday': 'black'\n",
    "}\n",
    "\n",
    "# Plot each day of the week on the same plot\n",
    "plt.figure(figsize=(25, 8))\n",
    "\n",
    "# Loop through each day of the week and plot\n",
    "for day, color in day_colors.items():\n",
    "    daily_data = df_2023[df_2023['DayOfWeek'] == day]\n",
    "    for hospital in hospitals:  # Exclude DATE and DayOfWeek columns\n",
    "        plt.plot(daily_data['Date'], daily_data[hospital], label=f'{hospital} ({day})', color=color, alpha=0.5)\n",
    "\n",
    "plt.xlabel('Date')\n",
    "plt.ylabel('Attendance')\n",
    "plt.title('Emergency Department Attendance by Day of Week (MoM)')\n",
    "plt.legend(title='Hospital (Day of Week)', bbox_to_anchor=(1.05, 1), loc='upper left')\n",
    "plt.show()"
   ]
  },
  {
   "cell_type": "markdown",
   "metadata": {},
   "source": [
    "### **Insights**\n",
    "- Not much insights can be drawn from this plot.\n",
    "- It will be more interpretable if we compare average attendance by day of the week across 2023"
   ]
  },
  {
   "cell_type": "markdown",
   "metadata": {},
   "source": [
    "## 3.4 Compare Average Attendance by Day of Week"
   ]
  },
  {
   "cell_type": "code",
   "execution_count": 418,
   "metadata": {},
   "outputs": [
    {
     "data": {
      "image/png": "[encoded data removed]",
      "text/plain": [
       "<Figure size 1200x800 with 1 Axes>"
      ]
     },
     "metadata": {},
     "output_type": "display_data"
    }
   ],
   "source": [
    "# Calculate the average attendance for each day of the week\n",
    "avg_attendance = df_2023.groupby('DayOfWeek').mean().reset_index()\n",
    "\n",
    "# Sort by the custom order of days of the week\n",
    "days_order = ['Monday', 'Tuesday', 'Wednesday', 'Thursday', 'Friday', 'Saturday', 'Sunday']\n",
    "avg_attendance['DayOfWeek'] = pd.Categorical(avg_attendance['DayOfWeek'], categories=days_order, ordered=True)\n",
    "avg_attendance = avg_attendance.sort_values('DayOfWeek')\n",
    "\n",
    "# Plot the average attendance for each day of the week\n",
    "plt.figure(figsize=(12, 8))\n",
    "\n",
    "for hospital in hospitals:  # Exclude DATE, Year, and DayOfWeek columns\n",
    "    plt.plot(avg_attendance['DayOfWeek'], avg_attendance[hospital], label=hospital)\n",
    "    for i, value in enumerate(avg_attendance[hospital]):\n",
    "        plt.annotate(f'{value:.0f}', (avg_attendance['DayOfWeek'].iloc[i], value), textcoords=\"offset points\", xytext=(6,5), ha='center')\n",
    "\n",
    "plt.xlabel('Day of the Week')\n",
    "plt.ylabel('Average Attendance')\n",
    "plt.title('Average Emergency Department Attendance by Day of the Week (2023)')\n",
    "plt.legend(title='Hospital')\n",
    "plt.show()"
   ]
  },
  {
   "cell_type": "markdown",
   "metadata": {},
   "source": [
    "### **Insights**\n",
    "Comparing the average SGH ED attendance of each day of the week in 2023, we can see the following:\n",
    "- Highest number on Mondays\n",
    "- Largest drop from Mondays to Tuesdays\n",
    "- Further drop from Tuesdays to Wednesdays\n",
    "- Slight increase from Wednesdays to Thursdays\n",
    "- Further drop from Thursdays to Fridays, where Fridays fall slightly below Wednesdays\n",
    "- Further decline from Fridays to Saturdays\n",
    "- Further decline from Fridays to Sundays, Sundays being the lowest\n",
    "\n",
    "We can conclude the following:\n",
    "- ED requires the highest number of manpower on Mondays, lowest on weekends\n",
    "- Manpower can be tapered off from Fridays towards the weekend."
   ]
  },
  {
   "cell_type": "markdown",
   "metadata": {},
   "source": [
    "## 3.5 Compare Attendance by Public Holiday & Non-Public Holiday\n",
    "### 3.5.1 Plot Attendance by Public Holiday & Non-Public Holiday"
   ]
  },
  {
   "cell_type": "code",
   "execution_count": 419,
   "metadata": {},
   "outputs": [],
   "source": [
    "# Create a list of public_holidays in 2023\n",
    "public_holidays = [\n",
    "    '2023-01-01', '2023-01-02', '2023-01-22', '2023-01-23', '2023-01-24',\n",
    "    '2023-04-07', '2023-04-22', '2023-05-01', '2023-06-02', '2023-06-29',\n",
    "    '2023-08-09', '2023-09-01', '2023-11-12', '2023-11-13', '2023-12-25'\n",
    "]"
   ]
  },
  {
   "cell_type": "code",
   "execution_count": 420,
   "metadata": {},
   "outputs": [
    {
     "name": "stderr",
     "output_type": "stream",
     "text": [
      "C:\\Users\\Shecey\\AppData\\Local\\Temp\\ipykernel_428\\3150010727.py:6: SettingWithCopyWarning:\n",
      "\n",
      "\n",
      "A value is trying to be set on a copy of a slice from a DataFrame.\n",
      "Try using .loc[row_indexer,col_indexer] = value instead\n",
      "\n",
      "See the caveats in the documentation: https://pandas.pydata.org/pandas-docs/stable/user_guide/indexing.html#returning-a-view-versus-a-copy\n",
      "\n"
     ]
    },
    {
     "data": {
      "text/html": [
       "<div>\n",
       "<style scoped>\n",
       "    .dataframe tbody tr th:only-of-type {\n",
       "        vertical-align: middle;\n",
       "    }\n",
       "\n",
       "    .dataframe tbody tr th {\n",
       "        vertical-align: top;\n",
       "    }\n",
       "\n",
       "    .dataframe thead th {\n",
       "        text-align: right;\n",
       "    }\n",
       "</style>\n",
       "<table border=\"1\" class=\"dataframe\">\n",
       "  <thead>\n",
       "    <tr style=\"text-align: right;\">\n",
       "      <th></th>\n",
       "      <th>Date</th>\n",
       "      <th>AH</th>\n",
       "      <th>CGH</th>\n",
       "      <th>KTPH</th>\n",
       "      <th>NTFGH</th>\n",
       "      <th>NUH(A)</th>\n",
       "      <th>SGH</th>\n",
       "      <th>SKH</th>\n",
       "      <th>TTSH</th>\n",
       "      <th>Year</th>\n",
       "      <th>Month</th>\n",
       "      <th>DayOfWeek</th>\n",
       "      <th>Is_Public_Holiday</th>\n",
       "    </tr>\n",
       "  </thead>\n",
       "  <tbody>\n",
       "    <tr>\n",
       "      <th>0</th>\n",
       "      <td>2023-01-01</td>\n",
       "      <td>64</td>\n",
       "      <td>351</td>\n",
       "      <td>286</td>\n",
       "      <td>252</td>\n",
       "      <td>257</td>\n",
       "      <td>309</td>\n",
       "      <td>333</td>\n",
       "      <td>336</td>\n",
       "      <td>2023</td>\n",
       "      <td>1</td>\n",
       "      <td>Sunday</td>\n",
       "      <td>True</td>\n",
       "    </tr>\n",
       "    <tr>\n",
       "      <th>1</th>\n",
       "      <td>2023-01-02</td>\n",
       "      <td>61</td>\n",
       "      <td>386</td>\n",
       "      <td>326</td>\n",
       "      <td>314</td>\n",
       "      <td>334</td>\n",
       "      <td>342</td>\n",
       "      <td>346</td>\n",
       "      <td>370</td>\n",
       "      <td>2023</td>\n",
       "      <td>1</td>\n",
       "      <td>Monday</td>\n",
       "      <td>True</td>\n",
       "    </tr>\n",
       "    <tr>\n",
       "      <th>2</th>\n",
       "      <td>2023-01-03</td>\n",
       "      <td>76</td>\n",
       "      <td>436</td>\n",
       "      <td>401</td>\n",
       "      <td>364</td>\n",
       "      <td>352</td>\n",
       "      <td>343</td>\n",
       "      <td>397</td>\n",
       "      <td>422</td>\n",
       "      <td>2023</td>\n",
       "      <td>1</td>\n",
       "      <td>Tuesday</td>\n",
       "      <td>False</td>\n",
       "    </tr>\n",
       "    <tr>\n",
       "      <th>3</th>\n",
       "      <td>2023-01-04</td>\n",
       "      <td>74</td>\n",
       "      <td>354</td>\n",
       "      <td>311</td>\n",
       "      <td>330</td>\n",
       "      <td>286</td>\n",
       "      <td>305</td>\n",
       "      <td>327</td>\n",
       "      <td>361</td>\n",
       "      <td>2023</td>\n",
       "      <td>1</td>\n",
       "      <td>Wednesday</td>\n",
       "      <td>False</td>\n",
       "    </tr>\n",
       "    <tr>\n",
       "      <th>4</th>\n",
       "      <td>2023-01-05</td>\n",
       "      <td>61</td>\n",
       "      <td>373</td>\n",
       "      <td>335</td>\n",
       "      <td>320</td>\n",
       "      <td>309</td>\n",
       "      <td>337</td>\n",
       "      <td>351</td>\n",
       "      <td>366</td>\n",
       "      <td>2023</td>\n",
       "      <td>1</td>\n",
       "      <td>Thursday</td>\n",
       "      <td>False</td>\n",
       "    </tr>\n",
       "    <tr>\n",
       "      <th>...</th>\n",
       "      <td>...</td>\n",
       "      <td>...</td>\n",
       "      <td>...</td>\n",
       "      <td>...</td>\n",
       "      <td>...</td>\n",
       "      <td>...</td>\n",
       "      <td>...</td>\n",
       "      <td>...</td>\n",
       "      <td>...</td>\n",
       "      <td>...</td>\n",
       "      <td>...</td>\n",
       "      <td>...</td>\n",
       "      <td>...</td>\n",
       "    </tr>\n",
       "    <tr>\n",
       "      <th>360</th>\n",
       "      <td>2023-12-27</td>\n",
       "      <td>61</td>\n",
       "      <td>370</td>\n",
       "      <td>335</td>\n",
       "      <td>329</td>\n",
       "      <td>323</td>\n",
       "      <td>301</td>\n",
       "      <td>346</td>\n",
       "      <td>357</td>\n",
       "      <td>2023</td>\n",
       "      <td>12</td>\n",
       "      <td>Wednesday</td>\n",
       "      <td>False</td>\n",
       "    </tr>\n",
       "    <tr>\n",
       "      <th>361</th>\n",
       "      <td>2023-12-28</td>\n",
       "      <td>69</td>\n",
       "      <td>341</td>\n",
       "      <td>336</td>\n",
       "      <td>331</td>\n",
       "      <td>285</td>\n",
       "      <td>323</td>\n",
       "      <td>336</td>\n",
       "      <td>382</td>\n",
       "      <td>2023</td>\n",
       "      <td>12</td>\n",
       "      <td>Thursday</td>\n",
       "      <td>False</td>\n",
       "    </tr>\n",
       "    <tr>\n",
       "      <th>362</th>\n",
       "      <td>2023-12-29</td>\n",
       "      <td>70</td>\n",
       "      <td>328</td>\n",
       "      <td>316</td>\n",
       "      <td>308</td>\n",
       "      <td>264</td>\n",
       "      <td>297</td>\n",
       "      <td>313</td>\n",
       "      <td>343</td>\n",
       "      <td>2023</td>\n",
       "      <td>12</td>\n",
       "      <td>Friday</td>\n",
       "      <td>False</td>\n",
       "    </tr>\n",
       "    <tr>\n",
       "      <th>363</th>\n",
       "      <td>2023-12-30</td>\n",
       "      <td>57</td>\n",
       "      <td>363</td>\n",
       "      <td>305</td>\n",
       "      <td>278</td>\n",
       "      <td>259</td>\n",
       "      <td>308</td>\n",
       "      <td>306</td>\n",
       "      <td>332</td>\n",
       "      <td>2023</td>\n",
       "      <td>12</td>\n",
       "      <td>Saturday</td>\n",
       "      <td>False</td>\n",
       "    </tr>\n",
       "    <tr>\n",
       "      <th>364</th>\n",
       "      <td>2023-12-31</td>\n",
       "      <td>59</td>\n",
       "      <td>292</td>\n",
       "      <td>250</td>\n",
       "      <td>258</td>\n",
       "      <td>236</td>\n",
       "      <td>265</td>\n",
       "      <td>305</td>\n",
       "      <td>282</td>\n",
       "      <td>2023</td>\n",
       "      <td>12</td>\n",
       "      <td>Sunday</td>\n",
       "      <td>False</td>\n",
       "    </tr>\n",
       "  </tbody>\n",
       "</table>\n",
       "<p>365 rows × 13 columns</p>\n",
       "</div>"
      ],
      "text/plain": [
       "          Date  AH  CGH  KTPH  NTFGH  NUH(A)  SGH  SKH  TTSH  Year  Month  \\\n",
       "0   2023-01-01  64  351   286    252     257  309  333   336  2023      1   \n",
       "1   2023-01-02  61  386   326    314     334  342  346   370  2023      1   \n",
       "2   2023-01-03  76  436   401    364     352  343  397   422  2023      1   \n",
       "3   2023-01-04  74  354   311    330     286  305  327   361  2023      1   \n",
       "4   2023-01-05  61  373   335    320     309  337  351   366  2023      1   \n",
       "..         ...  ..  ...   ...    ...     ...  ...  ...   ...   ...    ...   \n",
       "360 2023-12-27  61  370   335    329     323  301  346   357  2023     12   \n",
       "361 2023-12-28  69  341   336    331     285  323  336   382  2023     12   \n",
       "362 2023-12-29  70  328   316    308     264  297  313   343  2023     12   \n",
       "363 2023-12-30  57  363   305    278     259  308  306   332  2023     12   \n",
       "364 2023-12-31  59  292   250    258     236  265  305   282  2023     12   \n",
       "\n",
       "     DayOfWeek  Is_Public_Holiday  \n",
       "0       Sunday               True  \n",
       "1       Monday               True  \n",
       "2      Tuesday              False  \n",
       "3    Wednesday              False  \n",
       "4     Thursday              False  \n",
       "..         ...                ...  \n",
       "360  Wednesday              False  \n",
       "361   Thursday              False  \n",
       "362     Friday              False  \n",
       "363   Saturday              False  \n",
       "364     Sunday              False  \n",
       "\n",
       "[365 rows x 13 columns]"
      ]
     },
     "execution_count": 420,
     "metadata": {},
     "output_type": "execute_result"
    }
   ],
   "source": [
    "# Identify public holiday attendance and non-public holiday attendance\n",
    "df_2023['Is_Public_Holiday'] = df_2023['Date'].isin(public_holidays)\n",
    "df_2023"
   ]
  },
  {
   "cell_type": "code",
   "execution_count": 421,
   "metadata": {},
   "outputs": [
    {
     "data": {
      "text/plain": [
       "(15, 350)"
      ]
     },
     "execution_count": 421,
     "metadata": {},
     "output_type": "execute_result"
    }
   ],
   "source": [
    "# Extract public holiday and non-public holiday attendance data\n",
    "public_holiday_attendance = df_2023[df_2023['Is_Public_Holiday']]['SGH']\n",
    "non_public_holiday_attendance = df_2023[~df_2023['Is_Public_Holiday']]['SGH']\n",
    "len(public_holiday_attendance), len(non_public_holiday_attendance)"
   ]
  },
  {
   "cell_type": "code",
   "execution_count": 422,
   "metadata": {},
   "outputs": [
    {
     "data": {
      "text/plain": [
       "(283.73333333333335, 317.66857142857145)"
      ]
     },
     "execution_count": 422,
     "metadata": {},
     "output_type": "execute_result"
    }
   ],
   "source": [
    "# Calculate the average attendance for public holidays and non-public holidays\n",
    "average_public_holiday_attendance = public_holiday_attendance.mean()\n",
    "average_non_public_holiday_attendance = non_public_holiday_attendance.mean()\n",
    "\n",
    "average_public_holiday_attendance, average_non_public_holiday_attendance"
   ]
  },
  {
   "cell_type": "code",
   "execution_count": 423,
   "metadata": {},
   "outputs": [
    {
     "data": {
      "image/png": "[encoded data removed]",
      "text/plain": [
       "<Figure size 500x400 with 1 Axes>"
      ]
     },
     "metadata": {},
     "output_type": "display_data"
    }
   ],
   "source": [
    "# Plotting the averages\n",
    "plt.figure(figsize=(5, 4))\n",
    "\n",
    "# Bar plot for average attendance\n",
    "labels = ['Public Holidays', 'Non-Public Holidays']\n",
    "averages = [average_public_holiday_attendance, average_non_public_holiday_attendance]\n",
    "\n",
    "bars = plt.bar(labels, averages, color=['pink', 'skyblue'])\n",
    "\n",
    "# Adding annotations\n",
    "for bar in bars:\n",
    "    yval = bar.get_height()\n",
    "    plt.text(bar.get_x() + bar.get_width() / 2, yval + 5, round(yval, 1), ha='center', va='bottom')\n",
    "\n",
    "plt.xlabel('Type of Day')\n",
    "plt.ylabel('Average ED Attendance')\n",
    "plt.title('Average ED Attendance on Public Holidays vs Non-Public Holidays in 2023')\n",
    "plt.ylim(0, max(averages) + 50)\n",
    "plt.grid(True, axis='y')\n",
    "\n",
    "plt.show()"
   ]
  },
  {
   "cell_type": "markdown",
   "metadata": {},
   "source": [
    "#### **Insights**\n",
    "- By visually comparing both bar graphs, there seems to be a difference in SGH attendance between public holidays and non-public holidays in 2023.\n",
    "- However, it will be more conclusive to do a T-Test to detect if there is a difference."
   ]
  },
  {
   "cell_type": "markdown",
   "metadata": {},
   "source": [
    "### 3.5.2 Conduct T-Test (two-tailed) to detect difference"
   ]
  },
  {
   "cell_type": "markdown",
   "metadata": {},
   "source": [
    "Define null hypothesis ($H_0$) and alternative hypothesis ($H_a$).\n",
    "- $H_0$: There is **no** difference in SGH attendance between public holidays and non-public holidays in 2023\n",
    "- $H_a$: There is **a** difference in SGH attendance between public holidays and non-public holidays in 2023"
   ]
  },
  {
   "cell_type": "markdown",
   "metadata": {},
   "source": [
    "First, we need to determine if variance are different.\n",
    "The two groups are SGH attendance between public holidays and non-public holidays in 2023.\n",
    "- $H_0$: The variances of the two groups are equal.\n",
    "- $H_a$: The variances of the two groups are not equal."
   ]
  },
  {
   "cell_type": "code",
   "execution_count": 424,
   "metadata": {},
   "outputs": [
    {
     "name": "stdout",
     "output_type": "stream",
     "text": [
      "Levene's statistic: 0.3668198469219619\n",
      "p-value: 0.5451213350705262\n"
     ]
    }
   ],
   "source": [
    "# Perform Levene's test to compare variances\n",
    "stat, p_value = levene(public_holiday_attendance, non_public_holiday_attendance)\n",
    "\n",
    "print(f'Levene\\'s statistic: {stat}')\n",
    "print(f'p-value: {p_value}')"
   ]
  },
  {
   "cell_type": "markdown",
   "metadata": {},
   "source": [
    "- **p-value > 0.05:** Fail to reject the null hypothesis. \n",
    "- This indicates that there is **no difference in the variances between the attendance numbers on public holidays and non-public holidays**\n",
    "- Proceed to do basic t-test"
   ]
  },
  {
   "cell_type": "code",
   "execution_count": 425,
   "metadata": {},
   "outputs": [
    {
     "name": "stdout",
     "output_type": "stream",
     "text": [
      "t-statistic: -3.82314585475487\n",
      "p-value: 0.00015502406161089837\n"
     ]
    }
   ],
   "source": [
    "# Perform t-test\n",
    "t_stat, t_p_value = ttest_ind(public_holiday_attendance, non_public_holiday_attendance)\n",
    "\n",
    "print(f't-statistic: {t_stat}')\n",
    "print(f'p-value: {t_p_value}')"
   ]
  },
  {
   "cell_type": "markdown",
   "metadata": {},
   "source": [
    "#### Inference\n",
    "- **p-value < 0.05:** Reject the null hypothesis. \n",
    "- This indicates that **there is a difference in SGH attendance between public holidays and non-public holidays in 2023**\n",
    "\n",
    "\n",
    "#### **Insights**\n",
    "We can conclude the following:\n",
    "- ED requires less manpower on public holidays\n",
    "- Manpower can be reduced for public holidays\n"
   ]
  },
  {
   "cell_type": "markdown",
   "metadata": {},
   "source": [
    "---\n",
    "## 3.6 Compare Attendance by Public Holiday & Weekends against Non-Public Holiday & Weekdays"
   ]
  },
  {
   "cell_type": "code",
   "execution_count": 426,
   "metadata": {},
   "outputs": [],
   "source": [
    "# Filter weekends\n",
    "weekends = df_2023[df_2023['DayOfWeek'].isin(['Saturday', 'Sunday'])]"
   ]
  },
  {
   "cell_type": "markdown",
   "metadata": {},
   "source": [
    "### Combine PH & Weekends"
   ]
  },
  {
   "cell_type": "code",
   "execution_count": 427,
   "metadata": {},
   "outputs": [
    {
     "data": {
      "text/html": [
       "<div>\n",
       "<style scoped>\n",
       "    .dataframe tbody tr th:only-of-type {\n",
       "        vertical-align: middle;\n",
       "    }\n",
       "\n",
       "    .dataframe tbody tr th {\n",
       "        vertical-align: top;\n",
       "    }\n",
       "\n",
       "    .dataframe thead th {\n",
       "        text-align: right;\n",
       "    }\n",
       "</style>\n",
       "<table border=\"1\" class=\"dataframe\">\n",
       "  <thead>\n",
       "    <tr style=\"text-align: right;\">\n",
       "      <th></th>\n",
       "      <th>Date</th>\n",
       "      <th>AH</th>\n",
       "      <th>CGH</th>\n",
       "      <th>KTPH</th>\n",
       "      <th>NTFGH</th>\n",
       "      <th>NUH(A)</th>\n",
       "      <th>SGH</th>\n",
       "      <th>SKH</th>\n",
       "      <th>TTSH</th>\n",
       "      <th>Year</th>\n",
       "      <th>Month</th>\n",
       "      <th>DayOfWeek</th>\n",
       "      <th>Is_Public_Holiday</th>\n",
       "    </tr>\n",
       "  </thead>\n",
       "  <tbody>\n",
       "    <tr>\n",
       "      <th>0</th>\n",
       "      <td>2023-01-01</td>\n",
       "      <td>64</td>\n",
       "      <td>351</td>\n",
       "      <td>286</td>\n",
       "      <td>252</td>\n",
       "      <td>257</td>\n",
       "      <td>309</td>\n",
       "      <td>333</td>\n",
       "      <td>336</td>\n",
       "      <td>2023</td>\n",
       "      <td>1</td>\n",
       "      <td>Sunday</td>\n",
       "      <td>True</td>\n",
       "    </tr>\n",
       "    <tr>\n",
       "      <th>1</th>\n",
       "      <td>2023-01-02</td>\n",
       "      <td>61</td>\n",
       "      <td>386</td>\n",
       "      <td>326</td>\n",
       "      <td>314</td>\n",
       "      <td>334</td>\n",
       "      <td>342</td>\n",
       "      <td>346</td>\n",
       "      <td>370</td>\n",
       "      <td>2023</td>\n",
       "      <td>1</td>\n",
       "      <td>Monday</td>\n",
       "      <td>True</td>\n",
       "    </tr>\n",
       "    <tr>\n",
       "      <th>21</th>\n",
       "      <td>2023-01-22</td>\n",
       "      <td>39</td>\n",
       "      <td>288</td>\n",
       "      <td>239</td>\n",
       "      <td>273</td>\n",
       "      <td>162</td>\n",
       "      <td>208</td>\n",
       "      <td>285</td>\n",
       "      <td>278</td>\n",
       "      <td>2023</td>\n",
       "      <td>1</td>\n",
       "      <td>Sunday</td>\n",
       "      <td>True</td>\n",
       "    </tr>\n",
       "    <tr>\n",
       "      <th>22</th>\n",
       "      <td>2023-01-23</td>\n",
       "      <td>57</td>\n",
       "      <td>340</td>\n",
       "      <td>293</td>\n",
       "      <td>291</td>\n",
       "      <td>245</td>\n",
       "      <td>303</td>\n",
       "      <td>312</td>\n",
       "      <td>352</td>\n",
       "      <td>2023</td>\n",
       "      <td>1</td>\n",
       "      <td>Monday</td>\n",
       "      <td>True</td>\n",
       "    </tr>\n",
       "    <tr>\n",
       "      <th>23</th>\n",
       "      <td>2023-01-24</td>\n",
       "      <td>45</td>\n",
       "      <td>360</td>\n",
       "      <td>338</td>\n",
       "      <td>358</td>\n",
       "      <td>268</td>\n",
       "      <td>324</td>\n",
       "      <td>368</td>\n",
       "      <td>363</td>\n",
       "      <td>2023</td>\n",
       "      <td>1</td>\n",
       "      <td>Tuesday</td>\n",
       "      <td>True</td>\n",
       "    </tr>\n",
       "    <tr>\n",
       "      <th>...</th>\n",
       "      <td>...</td>\n",
       "      <td>...</td>\n",
       "      <td>...</td>\n",
       "      <td>...</td>\n",
       "      <td>...</td>\n",
       "      <td>...</td>\n",
       "      <td>...</td>\n",
       "      <td>...</td>\n",
       "      <td>...</td>\n",
       "      <td>...</td>\n",
       "      <td>...</td>\n",
       "      <td>...</td>\n",
       "      <td>...</td>\n",
       "    </tr>\n",
       "    <tr>\n",
       "      <th>350</th>\n",
       "      <td>2023-12-17</td>\n",
       "      <td>83</td>\n",
       "      <td>322</td>\n",
       "      <td>291</td>\n",
       "      <td>270</td>\n",
       "      <td>236</td>\n",
       "      <td>310</td>\n",
       "      <td>287</td>\n",
       "      <td>319</td>\n",
       "      <td>2023</td>\n",
       "      <td>12</td>\n",
       "      <td>Sunday</td>\n",
       "      <td>False</td>\n",
       "    </tr>\n",
       "    <tr>\n",
       "      <th>356</th>\n",
       "      <td>2023-12-23</td>\n",
       "      <td>53</td>\n",
       "      <td>302</td>\n",
       "      <td>301</td>\n",
       "      <td>274</td>\n",
       "      <td>279</td>\n",
       "      <td>271</td>\n",
       "      <td>304</td>\n",
       "      <td>322</td>\n",
       "      <td>2023</td>\n",
       "      <td>12</td>\n",
       "      <td>Saturday</td>\n",
       "      <td>False</td>\n",
       "    </tr>\n",
       "    <tr>\n",
       "      <th>357</th>\n",
       "      <td>2023-12-24</td>\n",
       "      <td>55</td>\n",
       "      <td>309</td>\n",
       "      <td>269</td>\n",
       "      <td>267</td>\n",
       "      <td>237</td>\n",
       "      <td>260</td>\n",
       "      <td>302</td>\n",
       "      <td>316</td>\n",
       "      <td>2023</td>\n",
       "      <td>12</td>\n",
       "      <td>Sunday</td>\n",
       "      <td>False</td>\n",
       "    </tr>\n",
       "    <tr>\n",
       "      <th>363</th>\n",
       "      <td>2023-12-30</td>\n",
       "      <td>57</td>\n",
       "      <td>363</td>\n",
       "      <td>305</td>\n",
       "      <td>278</td>\n",
       "      <td>259</td>\n",
       "      <td>308</td>\n",
       "      <td>306</td>\n",
       "      <td>332</td>\n",
       "      <td>2023</td>\n",
       "      <td>12</td>\n",
       "      <td>Saturday</td>\n",
       "      <td>False</td>\n",
       "    </tr>\n",
       "    <tr>\n",
       "      <th>364</th>\n",
       "      <td>2023-12-31</td>\n",
       "      <td>59</td>\n",
       "      <td>292</td>\n",
       "      <td>250</td>\n",
       "      <td>258</td>\n",
       "      <td>236</td>\n",
       "      <td>265</td>\n",
       "      <td>305</td>\n",
       "      <td>282</td>\n",
       "      <td>2023</td>\n",
       "      <td>12</td>\n",
       "      <td>Sunday</td>\n",
       "      <td>False</td>\n",
       "    </tr>\n",
       "  </tbody>\n",
       "</table>\n",
       "<p>116 rows × 13 columns</p>\n",
       "</div>"
      ],
      "text/plain": [
       "          Date  AH  CGH  KTPH  NTFGH  NUH(A)  SGH  SKH  TTSH  Year  Month  \\\n",
       "0   2023-01-01  64  351   286    252     257  309  333   336  2023      1   \n",
       "1   2023-01-02  61  386   326    314     334  342  346   370  2023      1   \n",
       "21  2023-01-22  39  288   239    273     162  208  285   278  2023      1   \n",
       "22  2023-01-23  57  340   293    291     245  303  312   352  2023      1   \n",
       "23  2023-01-24  45  360   338    358     268  324  368   363  2023      1   \n",
       "..         ...  ..  ...   ...    ...     ...  ...  ...   ...   ...    ...   \n",
       "350 2023-12-17  83  322   291    270     236  310  287   319  2023     12   \n",
       "356 2023-12-23  53  302   301    274     279  271  304   322  2023     12   \n",
       "357 2023-12-24  55  309   269    267     237  260  302   316  2023     12   \n",
       "363 2023-12-30  57  363   305    278     259  308  306   332  2023     12   \n",
       "364 2023-12-31  59  292   250    258     236  265  305   282  2023     12   \n",
       "\n",
       "    DayOfWeek  Is_Public_Holiday  \n",
       "0      Sunday               True  \n",
       "1      Monday               True  \n",
       "21     Sunday               True  \n",
       "22     Monday               True  \n",
       "23    Tuesday               True  \n",
       "..        ...                ...  \n",
       "350    Sunday              False  \n",
       "356  Saturday              False  \n",
       "357    Sunday              False  \n",
       "363  Saturday              False  \n",
       "364    Sunday              False  \n",
       "\n",
       "[116 rows x 13 columns]"
      ]
     },
     "execution_count": 427,
     "metadata": {},
     "output_type": "execute_result"
    }
   ],
   "source": [
    "# Combine public holidays and weekends\n",
    "public_holidays_and_weekends = pd.concat([df_2023[df_2023['Is_Public_Holiday']], weekends]).drop_duplicates()\n",
    "public_holidays_and_weekends"
   ]
  },
  {
   "cell_type": "code",
   "execution_count": 428,
   "metadata": {},
   "outputs": [
    {
     "data": {
      "text/plain": [
       "0      309\n",
       "1      342\n",
       "21     208\n",
       "22     303\n",
       "23     324\n",
       "      ... \n",
       "350    310\n",
       "356    271\n",
       "357    260\n",
       "363    308\n",
       "364    265\n",
       "Name: SGH, Length: 116, dtype: int64"
      ]
     },
     "execution_count": 428,
     "metadata": {},
     "output_type": "execute_result"
    }
   ],
   "source": [
    "# Extract public holidays and weekends for SGH\n",
    "public_holidays_and_weekends['SGH']"
   ]
  },
  {
   "cell_type": "markdown",
   "metadata": {},
   "source": [
    "### Combine Non-PH & Weekdays"
   ]
  },
  {
   "cell_type": "code",
   "execution_count": 429,
   "metadata": {},
   "outputs": [
    {
     "data": {
      "text/html": [
       "<div>\n",
       "<style scoped>\n",
       "    .dataframe tbody tr th:only-of-type {\n",
       "        vertical-align: middle;\n",
       "    }\n",
       "\n",
       "    .dataframe tbody tr th {\n",
       "        vertical-align: top;\n",
       "    }\n",
       "\n",
       "    .dataframe thead th {\n",
       "        text-align: right;\n",
       "    }\n",
       "</style>\n",
       "<table border=\"1\" class=\"dataframe\">\n",
       "  <thead>\n",
       "    <tr style=\"text-align: right;\">\n",
       "      <th></th>\n",
       "      <th>Date</th>\n",
       "      <th>AH</th>\n",
       "      <th>CGH</th>\n",
       "      <th>KTPH</th>\n",
       "      <th>NTFGH</th>\n",
       "      <th>NUH(A)</th>\n",
       "      <th>SGH</th>\n",
       "      <th>SKH</th>\n",
       "      <th>TTSH</th>\n",
       "      <th>Year</th>\n",
       "      <th>Month</th>\n",
       "      <th>DayOfWeek</th>\n",
       "      <th>Is_Public_Holiday</th>\n",
       "    </tr>\n",
       "  </thead>\n",
       "  <tbody>\n",
       "    <tr>\n",
       "      <th>2</th>\n",
       "      <td>2023-01-03</td>\n",
       "      <td>76</td>\n",
       "      <td>436</td>\n",
       "      <td>401</td>\n",
       "      <td>364</td>\n",
       "      <td>352</td>\n",
       "      <td>343</td>\n",
       "      <td>397</td>\n",
       "      <td>422</td>\n",
       "      <td>2023</td>\n",
       "      <td>1</td>\n",
       "      <td>Tuesday</td>\n",
       "      <td>False</td>\n",
       "    </tr>\n",
       "    <tr>\n",
       "      <th>3</th>\n",
       "      <td>2023-01-04</td>\n",
       "      <td>74</td>\n",
       "      <td>354</td>\n",
       "      <td>311</td>\n",
       "      <td>330</td>\n",
       "      <td>286</td>\n",
       "      <td>305</td>\n",
       "      <td>327</td>\n",
       "      <td>361</td>\n",
       "      <td>2023</td>\n",
       "      <td>1</td>\n",
       "      <td>Wednesday</td>\n",
       "      <td>False</td>\n",
       "    </tr>\n",
       "    <tr>\n",
       "      <th>4</th>\n",
       "      <td>2023-01-05</td>\n",
       "      <td>61</td>\n",
       "      <td>373</td>\n",
       "      <td>335</td>\n",
       "      <td>320</td>\n",
       "      <td>309</td>\n",
       "      <td>337</td>\n",
       "      <td>351</td>\n",
       "      <td>366</td>\n",
       "      <td>2023</td>\n",
       "      <td>1</td>\n",
       "      <td>Thursday</td>\n",
       "      <td>False</td>\n",
       "    </tr>\n",
       "    <tr>\n",
       "      <th>5</th>\n",
       "      <td>2023-01-06</td>\n",
       "      <td>49</td>\n",
       "      <td>353</td>\n",
       "      <td>305</td>\n",
       "      <td>287</td>\n",
       "      <td>304</td>\n",
       "      <td>302</td>\n",
       "      <td>340</td>\n",
       "      <td>350</td>\n",
       "      <td>2023</td>\n",
       "      <td>1</td>\n",
       "      <td>Friday</td>\n",
       "      <td>False</td>\n",
       "    </tr>\n",
       "    <tr>\n",
       "      <th>8</th>\n",
       "      <td>2023-01-09</td>\n",
       "      <td>83</td>\n",
       "      <td>398</td>\n",
       "      <td>379</td>\n",
       "      <td>382</td>\n",
       "      <td>341</td>\n",
       "      <td>359</td>\n",
       "      <td>409</td>\n",
       "      <td>426</td>\n",
       "      <td>2023</td>\n",
       "      <td>1</td>\n",
       "      <td>Monday</td>\n",
       "      <td>False</td>\n",
       "    </tr>\n",
       "    <tr>\n",
       "      <th>...</th>\n",
       "      <td>...</td>\n",
       "      <td>...</td>\n",
       "      <td>...</td>\n",
       "      <td>...</td>\n",
       "      <td>...</td>\n",
       "      <td>...</td>\n",
       "      <td>...</td>\n",
       "      <td>...</td>\n",
       "      <td>...</td>\n",
       "      <td>...</td>\n",
       "      <td>...</td>\n",
       "      <td>...</td>\n",
       "      <td>...</td>\n",
       "    </tr>\n",
       "    <tr>\n",
       "      <th>355</th>\n",
       "      <td>2023-12-22</td>\n",
       "      <td>59</td>\n",
       "      <td>332</td>\n",
       "      <td>284</td>\n",
       "      <td>267</td>\n",
       "      <td>271</td>\n",
       "      <td>320</td>\n",
       "      <td>304</td>\n",
       "      <td>338</td>\n",
       "      <td>2023</td>\n",
       "      <td>12</td>\n",
       "      <td>Friday</td>\n",
       "      <td>False</td>\n",
       "    </tr>\n",
       "    <tr>\n",
       "      <th>359</th>\n",
       "      <td>2023-12-26</td>\n",
       "      <td>91</td>\n",
       "      <td>397</td>\n",
       "      <td>339</td>\n",
       "      <td>363</td>\n",
       "      <td>347</td>\n",
       "      <td>357</td>\n",
       "      <td>398</td>\n",
       "      <td>394</td>\n",
       "      <td>2023</td>\n",
       "      <td>12</td>\n",
       "      <td>Tuesday</td>\n",
       "      <td>False</td>\n",
       "    </tr>\n",
       "    <tr>\n",
       "      <th>360</th>\n",
       "      <td>2023-12-27</td>\n",
       "      <td>61</td>\n",
       "      <td>370</td>\n",
       "      <td>335</td>\n",
       "      <td>329</td>\n",
       "      <td>323</td>\n",
       "      <td>301</td>\n",
       "      <td>346</td>\n",
       "      <td>357</td>\n",
       "      <td>2023</td>\n",
       "      <td>12</td>\n",
       "      <td>Wednesday</td>\n",
       "      <td>False</td>\n",
       "    </tr>\n",
       "    <tr>\n",
       "      <th>361</th>\n",
       "      <td>2023-12-28</td>\n",
       "      <td>69</td>\n",
       "      <td>341</td>\n",
       "      <td>336</td>\n",
       "      <td>331</td>\n",
       "      <td>285</td>\n",
       "      <td>323</td>\n",
       "      <td>336</td>\n",
       "      <td>382</td>\n",
       "      <td>2023</td>\n",
       "      <td>12</td>\n",
       "      <td>Thursday</td>\n",
       "      <td>False</td>\n",
       "    </tr>\n",
       "    <tr>\n",
       "      <th>362</th>\n",
       "      <td>2023-12-29</td>\n",
       "      <td>70</td>\n",
       "      <td>328</td>\n",
       "      <td>316</td>\n",
       "      <td>308</td>\n",
       "      <td>264</td>\n",
       "      <td>297</td>\n",
       "      <td>313</td>\n",
       "      <td>343</td>\n",
       "      <td>2023</td>\n",
       "      <td>12</td>\n",
       "      <td>Friday</td>\n",
       "      <td>False</td>\n",
       "    </tr>\n",
       "  </tbody>\n",
       "</table>\n",
       "<p>249 rows × 13 columns</p>\n",
       "</div>"
      ],
      "text/plain": [
       "          Date  AH  CGH  KTPH  NTFGH  NUH(A)  SGH  SKH  TTSH  Year  Month  \\\n",
       "2   2023-01-03  76  436   401    364     352  343  397   422  2023      1   \n",
       "3   2023-01-04  74  354   311    330     286  305  327   361  2023      1   \n",
       "4   2023-01-05  61  373   335    320     309  337  351   366  2023      1   \n",
       "5   2023-01-06  49  353   305    287     304  302  340   350  2023      1   \n",
       "8   2023-01-09  83  398   379    382     341  359  409   426  2023      1   \n",
       "..         ...  ..  ...   ...    ...     ...  ...  ...   ...   ...    ...   \n",
       "355 2023-12-22  59  332   284    267     271  320  304   338  2023     12   \n",
       "359 2023-12-26  91  397   339    363     347  357  398   394  2023     12   \n",
       "360 2023-12-27  61  370   335    329     323  301  346   357  2023     12   \n",
       "361 2023-12-28  69  341   336    331     285  323  336   382  2023     12   \n",
       "362 2023-12-29  70  328   316    308     264  297  313   343  2023     12   \n",
       "\n",
       "     DayOfWeek  Is_Public_Holiday  \n",
       "2      Tuesday              False  \n",
       "3    Wednesday              False  \n",
       "4     Thursday              False  \n",
       "5       Friday              False  \n",
       "8       Monday              False  \n",
       "..         ...                ...  \n",
       "355     Friday              False  \n",
       "359    Tuesday              False  \n",
       "360  Wednesday              False  \n",
       "361   Thursday              False  \n",
       "362     Friday              False  \n",
       "\n",
       "[249 rows x 13 columns]"
      ]
     },
     "execution_count": 429,
     "metadata": {},
     "output_type": "execute_result"
    }
   ],
   "source": [
    "# Identify non-public holidays and weekdays\n",
    "non_public_holidays_and_weekdays = df_2023[~df_2023.index.isin(public_holidays_and_weekends.index)]\n",
    "non_public_holidays_and_weekdays"
   ]
  },
  {
   "cell_type": "code",
   "execution_count": 430,
   "metadata": {},
   "outputs": [
    {
     "data": {
      "text/plain": [
       "2      343\n",
       "3      305\n",
       "4      337\n",
       "5      302\n",
       "8      359\n",
       "      ... \n",
       "355    320\n",
       "359    357\n",
       "360    301\n",
       "361    323\n",
       "362    297\n",
       "Name: SGH, Length: 249, dtype: int64"
      ]
     },
     "execution_count": 430,
     "metadata": {},
     "output_type": "execute_result"
    }
   ],
   "source": [
    "# Extract non-public holidays and weekdays for SGH\n",
    "non_public_holidays_and_weekdays['SGH']"
   ]
  },
  {
   "cell_type": "markdown",
   "metadata": {},
   "source": [
    "### 3.6.1 Plot Attendance by Public Holiday & Weekends against Non-Public Holiday & Weekdays"
   ]
  },
  {
   "cell_type": "code",
   "execution_count": 431,
   "metadata": {},
   "outputs": [
    {
     "name": "stdout",
     "output_type": "stream",
     "text": [
      "Average SGH attendance on public holidays and weekends: 287.6896551724138\n",
      "Average SGH attendance on non-public holidays and weekdays: 329.5903614457831\n"
     ]
    }
   ],
   "source": [
    "# Calculate the average attendance for public holidays + weekends and non-public holidays + weekdays\n",
    "average_public_holidays_and_weekends = public_holidays_and_weekends['SGH'].mean()\n",
    "average_non_public_holidays_and_weekdays = non_public_holidays_and_weekdays['SGH'].mean()\n",
    "\n",
    "print(f'Average SGH attendance on public holidays and weekends: {average_public_holidays_and_weekends}')\n",
    "print(f'Average SGH attendance on non-public holidays and weekdays: {average_non_public_holidays_and_weekdays}')"
   ]
  },
  {
   "cell_type": "code",
   "execution_count": 432,
   "metadata": {},
   "outputs": [
    {
     "data": {
      "image/png": "[encoded data removed]",
      "text/plain": [
       "<Figure size 500x400 with 1 Axes>"
      ]
     },
     "metadata": {},
     "output_type": "display_data"
    }
   ],
   "source": [
    "# Plotting the averages\n",
    "plt.figure(figsize=(5, 4))\n",
    "\n",
    "# Bar plot for average attendance\n",
    "labels = ['PH & Weekends', 'Non-PH & Weekdays']\n",
    "averages = [average_public_holidays_and_weekends, average_non_public_holidays_and_weekdays]\n",
    "\n",
    "bars = plt.bar(labels, averages, color=['pink', 'skyblue'])\n",
    "\n",
    "# Adding annotations\n",
    "for bar in bars:\n",
    "    yval = bar.get_height()\n",
    "    plt.text(bar.get_x() + bar.get_width() / 2, yval + 5, round(yval, 1), ha='center', va='bottom')\n",
    "\n",
    "plt.xlabel('Type of Day')\n",
    "plt.ylabel('Average SGH Attendance')\n",
    "plt.title('Average SGH Attendance on PH & Weekends vs Non-PH & Weekdays in 2023')\n",
    "plt.ylim(0, max(averages) + 50)\n",
    "plt.grid(True, axis='y')\n",
    "\n",
    "plt.show()"
   ]
  },
  {
   "cell_type": "markdown",
   "metadata": {},
   "source": [
    "#### **Insights**\n",
    "- By visually comparing both bar graphs, there seems to be a difference in SGH attendance between public holidays & weekends, and non-public holidays & weekdays in 2023.\n",
    "- However, it will be more conclusive to do a T-Test to detect if there is a difference."
   ]
  },
  {
   "cell_type": "markdown",
   "metadata": {},
   "source": [
    "### 3.6.2 Conduct T-Test (two-tailed) to detect difference"
   ]
  },
  {
   "cell_type": "markdown",
   "metadata": {},
   "source": [
    "Define null hypothesis ($H_0$) and alternative hypothesis ($H_a$).\n",
    "- $H_0$: There is **no** difference in SGH attendance between public holidays & weekends versus non-public holidays & weekdays in 2023\n",
    "- $H_a$: There is **a** difference in SGH attendance between public holidays & weekends versus non-public holidays & weekdays in 2023"
   ]
  },
  {
   "cell_type": "markdown",
   "metadata": {},
   "source": [
    "First, we need to determine if variance are different.\n",
    "The two groups are SGH attendance between public holidays & weekends versus non-public holidays & weekdays in 2023.\n",
    "- $H_0$: The variances of the two groups are equal.\n",
    "- $H_a$: The variances of the two groups are not equal."
   ]
  },
  {
   "cell_type": "code",
   "execution_count": 380,
   "metadata": {},
   "outputs": [
    {
     "name": "stdout",
     "output_type": "stream",
     "text": [
      "Levene's statistic: 1.7682825065002796\n",
      "p-value: 0.1844297494454139\n"
     ]
    }
   ],
   "source": [
    "# Perform Levene's test to compare variances\n",
    "stat, p_value = levene(public_holidays_and_weekends['SGH'], non_public_holidays_and_weekdays['SGH'])\n",
    "\n",
    "print(f'Levene\\'s statistic: {stat}')\n",
    "print(f'p-value: {p_value}')"
   ]
  },
  {
   "cell_type": "markdown",
   "metadata": {},
   "source": [
    "- **p-value > 0.05:** Fail to reject the null hypothesis. \n",
    "- This indicates that there is **no difference in the variances between the attendance numbers on public holidays & weekends and non-public holidays & weekdays**\n",
    "- Proceed to do basic t-test"
   ]
  },
  {
   "cell_type": "code",
   "execution_count": 381,
   "metadata": {},
   "outputs": [
    {
     "name": "stdout",
     "output_type": "stream",
     "text": [
      "t-statistic: -13.210132866683614\n",
      "p-value: 8.351724570316208e-33\n"
     ]
    }
   ],
   "source": [
    "# Perform t-test\n",
    "t_stat, t_p_value = ttest_ind(public_holidays_and_weekends['SGH'], non_public_holidays_and_weekdays['SGH'])\n",
    "\n",
    "print(f't-statistic: {t_stat}')\n",
    "print(f'p-value: {t_p_value}')\n"
   ]
  },
  {
   "cell_type": "markdown",
   "metadata": {},
   "source": [
    "#### Inference\n",
    "- **p-value < 0.05:** Reject the null hypothesis. \n",
    "- This indicates that **there a difference in SGH attendance between public holidays & weekends versus non-public holidays & weekdays in 2023**\n",
    "\n",
    "\n",
    "#### **Insights**\n",
    "We can conclude the following:\n",
    "- ED requires less manpower on public holidays & weekends\n",
    "- Manpower can be reduced for public holidays & weekends"
   ]
  },
  {
   "cell_type": "markdown",
   "metadata": {},
   "source": [
    "---\n",
    "# 4. Conclusions & Recommendations"
   ]
  },
  {
   "cell_type": "markdown",
   "metadata": {},
   "source": [
    "**Main Conclusions**\n",
    "- SGH ED requires the highest number of manpower on Mondays, lowest on weekends\n",
    "- SGH ED requires less manpower on public holidays & weekends\n",
    "\n",
    "**Recommendations**\n",
    "- Minimise SGH ED staff from applying for leave on Mondays unless absolutely urgent/necessary.\n",
    "- Allow for higher number of SGH ED staff to apply for leave on public holidays and from Fridays to Sundays compared to the rest of the week.\n",
    "- Fewer SGH ED staff should be granted leave on Fridays compared to Saturdays.\n",
    "- Fewer SGH ED staff should be granted leave on Saturdays compared to Sundays."
   ]
  },
  {
   "cell_type": "markdown",
   "metadata": {},
   "source": [
    "---"
   ]
  }
 ],
 "metadata": {
  "kernelspec": {
   "display_name": "base",
   "language": "python",
   "name": "python3"
  },
  "language_info": {
   "codemirror_mode": {
    "name": "ipython",
    "version": 3
   },
   "file_extension": ".py",
   "mimetype": "text/x-python",
   "name": "python",
   "nbconvert_exporter": "python",
   "pygments_lexer": "ipython3",
   "version": "3.11.5"
  }
 },
 "nbformat": 4,
 "nbformat_minor": 2
}
